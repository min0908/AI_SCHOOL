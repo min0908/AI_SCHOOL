{
 "cells": [
  {
   "attachments": {},
   "cell_type": "markdown",
   "id": "ff3745ba",
   "metadata": {},
   "source": [
    "## 데이터 살펴보기\n",
    "- 데이콘 Basic 전화 해지 여부 분류 AI 경진대회 데이터  \n",
    "https://dacon.io/competitions/official/236075/overview/description\n",
    "- 평가산식 : Macro F1 Score\n",
    "- Public 평가 : 전체 Test 데이터 100%로 채점\n",
    "\n",
    "- 전화해지여부: 0(서비스 유지)/ 1(서비스 해지)"
   ]
  },
  {
   "cell_type": "code",
   "execution_count": 1,
   "id": "38eaa85e",
   "metadata": {},
   "outputs": [],
   "source": [
    "# 데이터 있는 경로 절대경로 설정하기\n",
    "import os\n",
    "os.getcwd()\n",
    "os.chdir(os.getcwd())"
   ]
  },
  {
   "cell_type": "code",
   "execution_count": 2,
   "id": "76ec95e6",
   "metadata": {},
   "outputs": [],
   "source": [
    "# 라이브러리 \n",
    "import pandas as pd\n",
    "import sklearn\n",
    "import numpy as np\n",
    "\n",
    "import matplotlib as mpl\n",
    "import matplotlib.pyplot as plt\n",
    "import seaborn as sns\n",
    "%matplotlib inline"
   ]
  },
  {
   "cell_type": "code",
   "execution_count": 30,
   "id": "c8e8cb01",
   "metadata": {},
   "outputs": [],
   "source": [
    "#데이터 불러오기\n",
    "train = pd.read_csv('./train.csv')\n",
    "test = pd.read_csv('./test.csv')\n",
    "sample_submission = pd.read_csv('./sample_submission.csv')"
   ]
  },
  {
   "cell_type": "code",
   "execution_count": 31,
   "id": "94ecf55a",
   "metadata": {},
   "outputs": [
    {
     "data": {
      "text/plain": [
       "((30200, 14), (12943, 13), (12943, 2))"
      ]
     },
     "execution_count": 31,
     "metadata": {},
     "output_type": "execute_result"
    }
   ],
   "source": [
    "train.shape , test.shape , sample_submission.shape"
   ]
  },
  {
   "cell_type": "code",
   "execution_count": 32,
   "id": "abe049f0",
   "metadata": {},
   "outputs": [
    {
     "data": {
      "text/html": [
       "<div>\n",
       "<style scoped>\n",
       "    .dataframe tbody tr th:only-of-type {\n",
       "        vertical-align: middle;\n",
       "    }\n",
       "\n",
       "    .dataframe tbody tr th {\n",
       "        vertical-align: top;\n",
       "    }\n",
       "\n",
       "    .dataframe thead th {\n",
       "        text-align: right;\n",
       "    }\n",
       "</style>\n",
       "<table border=\"1\" class=\"dataframe\">\n",
       "  <thead>\n",
       "    <tr style=\"text-align: right;\">\n",
       "      <th></th>\n",
       "      <th>ID</th>\n",
       "      <th>가입일</th>\n",
       "      <th>음성사서함이용</th>\n",
       "      <th>주간통화시간</th>\n",
       "      <th>주간통화횟수</th>\n",
       "      <th>주간통화요금</th>\n",
       "      <th>저녁통화시간</th>\n",
       "      <th>저녁통화횟수</th>\n",
       "      <th>저녁통화요금</th>\n",
       "      <th>밤통화시간</th>\n",
       "      <th>밤통화횟수</th>\n",
       "      <th>밤통화요금</th>\n",
       "      <th>상담전화건수</th>\n",
       "      <th>전화해지여부</th>\n",
       "    </tr>\n",
       "  </thead>\n",
       "  <tbody>\n",
       "    <tr>\n",
       "      <th>0</th>\n",
       "      <td>TRAIN_00000</td>\n",
       "      <td>329</td>\n",
       "      <td>0</td>\n",
       "      <td>99.2</td>\n",
       "      <td>93</td>\n",
       "      <td>27.3</td>\n",
       "      <td>268.8</td>\n",
       "      <td>68</td>\n",
       "      <td>28.92</td>\n",
       "      <td>262.9</td>\n",
       "      <td>328</td>\n",
       "      <td>32.89</td>\n",
       "      <td>2</td>\n",
       "      <td>0</td>\n",
       "    </tr>\n",
       "    <tr>\n",
       "      <th>1</th>\n",
       "      <td>TRAIN_00001</td>\n",
       "      <td>2</td>\n",
       "      <td>80</td>\n",
       "      <td>323.9</td>\n",
       "      <td>323</td>\n",
       "      <td>83.7</td>\n",
       "      <td>269.4</td>\n",
       "      <td>326</td>\n",
       "      <td>32.09</td>\n",
       "      <td>322.8</td>\n",
       "      <td>209</td>\n",
       "      <td>32.32</td>\n",
       "      <td>2</td>\n",
       "      <td>0</td>\n",
       "    </tr>\n",
       "    <tr>\n",
       "      <th>2</th>\n",
       "      <td>TRAIN_00002</td>\n",
       "      <td>93</td>\n",
       "      <td>28</td>\n",
       "      <td>282.4</td>\n",
       "      <td>323</td>\n",
       "      <td>34.2</td>\n",
       "      <td>207.0</td>\n",
       "      <td>322</td>\n",
       "      <td>32.82</td>\n",
       "      <td>280.8</td>\n",
       "      <td>328</td>\n",
       "      <td>8.28</td>\n",
       "      <td>0</td>\n",
       "      <td>0</td>\n",
       "    </tr>\n",
       "    <tr>\n",
       "      <th>3</th>\n",
       "      <td>TRAIN_00003</td>\n",
       "      <td>223</td>\n",
       "      <td>1</td>\n",
       "      <td>221.4</td>\n",
       "      <td>223</td>\n",
       "      <td>25.1</td>\n",
       "      <td>233.0</td>\n",
       "      <td>61</td>\n",
       "      <td>23.90</td>\n",
       "      <td>203.8</td>\n",
       "      <td>234</td>\n",
       "      <td>9.36</td>\n",
       "      <td>0</td>\n",
       "      <td>0</td>\n",
       "    </tr>\n",
       "    <tr>\n",
       "      <th>4</th>\n",
       "      <td>TRAIN_00004</td>\n",
       "      <td>222</td>\n",
       "      <td>0</td>\n",
       "      <td>96.3</td>\n",
       "      <td>222</td>\n",
       "      <td>28.7</td>\n",
       "      <td>223.9</td>\n",
       "      <td>69</td>\n",
       "      <td>28.08</td>\n",
       "      <td>263.1</td>\n",
       "      <td>223</td>\n",
       "      <td>2.80</td>\n",
       "      <td>8</td>\n",
       "      <td>0</td>\n",
       "    </tr>\n",
       "  </tbody>\n",
       "</table>\n",
       "</div>"
      ],
      "text/plain": [
       "            ID  가입일  음성사서함이용  주간통화시간  주간통화횟수  주간통화요금  저녁통화시간  저녁통화횟수  저녁통화요금  \\\n",
       "0  TRAIN_00000  329        0    99.2      93    27.3   268.8      68   28.92   \n",
       "1  TRAIN_00001    2       80   323.9     323    83.7   269.4     326   32.09   \n",
       "2  TRAIN_00002   93       28   282.4     323    34.2   207.0     322   32.82   \n",
       "3  TRAIN_00003  223        1   221.4     223    25.1   233.0      61   23.90   \n",
       "4  TRAIN_00004  222        0    96.3     222    28.7   223.9      69   28.08   \n",
       "\n",
       "   밤통화시간  밤통화횟수  밤통화요금  상담전화건수  전화해지여부  \n",
       "0  262.9    328  32.89       2       0  \n",
       "1  322.8    209  32.32       2       0  \n",
       "2  280.8    328   8.28       0       0  \n",
       "3  203.8    234   9.36       0       0  \n",
       "4  263.1    223   2.80       8       0  "
      ]
     },
     "execution_count": 32,
     "metadata": {},
     "output_type": "execute_result"
    }
   ],
   "source": [
    "train.head()"
   ]
  },
  {
   "cell_type": "code",
   "execution_count": 33,
   "id": "d9a830cd",
   "metadata": {},
   "outputs": [],
   "source": [
    "# ID열은 인덱스 열로 지정하기\n",
    "train = train.set_index('ID')\n",
    "test = test.set_index('ID')"
   ]
  },
  {
   "cell_type": "code",
   "execution_count": 34,
   "id": "e281c0d4",
   "metadata": {},
   "outputs": [
    {
     "name": "stdout",
     "output_type": "stream",
     "text": [
      "<class 'pandas.core.frame.DataFrame'>\n",
      "Index: 30200 entries, TRAIN_00000 to TRAIN_30199\n",
      "Data columns (total 13 columns):\n",
      " #   Column   Non-Null Count  Dtype  \n",
      "---  ------   --------------  -----  \n",
      " 0   가입일      30200 non-null  int64  \n",
      " 1   음성사서함이용  30200 non-null  int64  \n",
      " 2   주간통화시간   30200 non-null  float64\n",
      " 3   주간통화횟수   30200 non-null  int64  \n",
      " 4   주간통화요금   30200 non-null  float64\n",
      " 5   저녁통화시간   30200 non-null  float64\n",
      " 6   저녁통화횟수   30200 non-null  int64  \n",
      " 7   저녁통화요금   30200 non-null  float64\n",
      " 8   밤통화시간    30200 non-null  float64\n",
      " 9   밤통화횟수    30200 non-null  int64  \n",
      " 10  밤통화요금    30200 non-null  float64\n",
      " 11  상담전화건수   30200 non-null  int64  \n",
      " 12  전화해지여부   30200 non-null  int64  \n",
      "dtypes: float64(6), int64(7)\n",
      "memory usage: 3.2+ MB\n"
     ]
    }
   ],
   "source": [
    "train.info()"
   ]
  },
  {
   "cell_type": "code",
   "execution_count": 35,
   "id": "fa544873",
   "metadata": {},
   "outputs": [
    {
     "name": "stdout",
     "output_type": "stream",
     "text": [
      "                가입일       음성사서함이용        주간통화시간        주간통화횟수        주간통화요금  \\\n",
      "count  30200.000000  30200.000000  30200.000000  30200.000000  30200.000000   \n",
      "mean     159.732649     12.037815    250.563457    159.175728     41.091447   \n",
      "std      123.752781     24.925334     84.403350    101.573057     23.179017   \n",
      "min        1.000000      0.000000      0.000000      0.000000      0.000000   \n",
      "25%       63.000000      0.000000    222.800000     88.000000     24.400000   \n",
      "50%      118.000000      1.000000    234.000000    117.500000     30.800000   \n",
      "75%      228.000000     22.000000    289.600000    223.000000     45.900000   \n",
      "max     2212.000000   1112.000000    481.900000    489.000000    118.600000   \n",
      "\n",
      "             저녁통화시간        저녁통화횟수        저녁통화요금         밤통화시간         밤통화횟수  \\\n",
      "count  30200.000000  30200.000000  30200.000000  30200.000000  30200.000000   \n",
      "mean     263.247215    158.474536     25.394260    263.438285    157.047417   \n",
      "std       74.064922    102.200293      8.146126     73.778416    101.721601   \n",
      "min        0.100000      0.000000      0.000000     20.800000     20.000000   \n",
      "25%      223.700000     87.000000     22.220000    223.700000     87.000000   \n",
      "50%      243.000000    112.000000     23.320000    242.800000    108.000000   \n",
      "75%      290.300000    223.000000     28.820000    290.500000    222.000000   \n",
      "max      481.600000    489.000000     49.980000    481.800000    490.000000   \n",
      "\n",
      "              밤통화요금        상담전화건수        전화해지여부  \n",
      "count  30200.000000  30200.000000  30200.000000  \n",
      "mean      12.074648      2.288079      0.109868  \n",
      "std        9.414261      2.050746      0.312730  \n",
      "min        1.040000      0.000000      0.000000  \n",
      "25%        4.700000      2.000000      0.000000  \n",
      "50%        9.080000      2.000000      0.000000  \n",
      "75%       20.290000      2.000000      0.000000  \n",
      "max       44.980000     11.000000      1.000000  \n"
     ]
    }
   ],
   "source": [
    "print(train.describe())"
   ]
  },
  {
   "cell_type": "code",
   "execution_count": 36,
   "id": "625dd244",
   "metadata": {},
   "outputs": [
    {
     "data": {
      "text/html": [
       "<div>\n",
       "<style scoped>\n",
       "    .dataframe tbody tr th:only-of-type {\n",
       "        vertical-align: middle;\n",
       "    }\n",
       "\n",
       "    .dataframe tbody tr th {\n",
       "        vertical-align: top;\n",
       "    }\n",
       "\n",
       "    .dataframe thead th {\n",
       "        text-align: right;\n",
       "    }\n",
       "</style>\n",
       "<table border=\"1\" class=\"dataframe\">\n",
       "  <thead>\n",
       "    <tr style=\"text-align: right;\">\n",
       "      <th></th>\n",
       "      <th>가입일</th>\n",
       "      <th>음성사서함이용</th>\n",
       "      <th>주간통화시간</th>\n",
       "      <th>주간통화횟수</th>\n",
       "      <th>주간통화요금</th>\n",
       "      <th>저녁통화시간</th>\n",
       "      <th>저녁통화횟수</th>\n",
       "      <th>저녁통화요금</th>\n",
       "      <th>밤통화시간</th>\n",
       "      <th>밤통화횟수</th>\n",
       "      <th>밤통화요금</th>\n",
       "      <th>상담전화건수</th>\n",
       "      <th>전화해지여부</th>\n",
       "    </tr>\n",
       "  </thead>\n",
       "  <tbody>\n",
       "    <tr>\n",
       "      <th>count</th>\n",
       "      <td>30200.000000</td>\n",
       "      <td>30200.000000</td>\n",
       "      <td>30200.000000</td>\n",
       "      <td>30200.000000</td>\n",
       "      <td>30200.000000</td>\n",
       "      <td>30200.000000</td>\n",
       "      <td>30200.000000</td>\n",
       "      <td>30200.000000</td>\n",
       "      <td>30200.000000</td>\n",
       "      <td>30200.000000</td>\n",
       "      <td>30200.000000</td>\n",
       "      <td>30200.000000</td>\n",
       "      <td>30200.000000</td>\n",
       "    </tr>\n",
       "    <tr>\n",
       "      <th>mean</th>\n",
       "      <td>159.732649</td>\n",
       "      <td>12.037815</td>\n",
       "      <td>250.563457</td>\n",
       "      <td>159.175728</td>\n",
       "      <td>41.091447</td>\n",
       "      <td>263.247215</td>\n",
       "      <td>158.474536</td>\n",
       "      <td>25.394260</td>\n",
       "      <td>263.438285</td>\n",
       "      <td>157.047417</td>\n",
       "      <td>12.074648</td>\n",
       "      <td>2.288079</td>\n",
       "      <td>0.109868</td>\n",
       "    </tr>\n",
       "    <tr>\n",
       "      <th>std</th>\n",
       "      <td>123.752781</td>\n",
       "      <td>24.925334</td>\n",
       "      <td>84.403350</td>\n",
       "      <td>101.573057</td>\n",
       "      <td>23.179017</td>\n",
       "      <td>74.064922</td>\n",
       "      <td>102.200293</td>\n",
       "      <td>8.146126</td>\n",
       "      <td>73.778416</td>\n",
       "      <td>101.721601</td>\n",
       "      <td>9.414261</td>\n",
       "      <td>2.050746</td>\n",
       "      <td>0.312730</td>\n",
       "    </tr>\n",
       "    <tr>\n",
       "      <th>min</th>\n",
       "      <td>1.000000</td>\n",
       "      <td>0.000000</td>\n",
       "      <td>0.000000</td>\n",
       "      <td>0.000000</td>\n",
       "      <td>0.000000</td>\n",
       "      <td>0.100000</td>\n",
       "      <td>0.000000</td>\n",
       "      <td>0.000000</td>\n",
       "      <td>20.800000</td>\n",
       "      <td>20.000000</td>\n",
       "      <td>1.040000</td>\n",
       "      <td>0.000000</td>\n",
       "      <td>0.000000</td>\n",
       "    </tr>\n",
       "    <tr>\n",
       "      <th>25%</th>\n",
       "      <td>63.000000</td>\n",
       "      <td>0.000000</td>\n",
       "      <td>222.800000</td>\n",
       "      <td>88.000000</td>\n",
       "      <td>24.400000</td>\n",
       "      <td>223.700000</td>\n",
       "      <td>87.000000</td>\n",
       "      <td>22.220000</td>\n",
       "      <td>223.700000</td>\n",
       "      <td>87.000000</td>\n",
       "      <td>4.700000</td>\n",
       "      <td>2.000000</td>\n",
       "      <td>0.000000</td>\n",
       "    </tr>\n",
       "    <tr>\n",
       "      <th>50%</th>\n",
       "      <td>118.000000</td>\n",
       "      <td>1.000000</td>\n",
       "      <td>234.000000</td>\n",
       "      <td>117.500000</td>\n",
       "      <td>30.800000</td>\n",
       "      <td>243.000000</td>\n",
       "      <td>112.000000</td>\n",
       "      <td>23.320000</td>\n",
       "      <td>242.800000</td>\n",
       "      <td>108.000000</td>\n",
       "      <td>9.080000</td>\n",
       "      <td>2.000000</td>\n",
       "      <td>0.000000</td>\n",
       "    </tr>\n",
       "    <tr>\n",
       "      <th>75%</th>\n",
       "      <td>228.000000</td>\n",
       "      <td>22.000000</td>\n",
       "      <td>289.600000</td>\n",
       "      <td>223.000000</td>\n",
       "      <td>45.900000</td>\n",
       "      <td>290.300000</td>\n",
       "      <td>223.000000</td>\n",
       "      <td>28.820000</td>\n",
       "      <td>290.500000</td>\n",
       "      <td>222.000000</td>\n",
       "      <td>20.290000</td>\n",
       "      <td>2.000000</td>\n",
       "      <td>0.000000</td>\n",
       "    </tr>\n",
       "    <tr>\n",
       "      <th>max</th>\n",
       "      <td>2212.000000</td>\n",
       "      <td>1112.000000</td>\n",
       "      <td>481.900000</td>\n",
       "      <td>489.000000</td>\n",
       "      <td>118.600000</td>\n",
       "      <td>481.600000</td>\n",
       "      <td>489.000000</td>\n",
       "      <td>49.980000</td>\n",
       "      <td>481.800000</td>\n",
       "      <td>490.000000</td>\n",
       "      <td>44.980000</td>\n",
       "      <td>11.000000</td>\n",
       "      <td>1.000000</td>\n",
       "    </tr>\n",
       "  </tbody>\n",
       "</table>\n",
       "</div>"
      ],
      "text/plain": [
       "                가입일       음성사서함이용        주간통화시간        주간통화횟수        주간통화요금  \\\n",
       "count  30200.000000  30200.000000  30200.000000  30200.000000  30200.000000   \n",
       "mean     159.732649     12.037815    250.563457    159.175728     41.091447   \n",
       "std      123.752781     24.925334     84.403350    101.573057     23.179017   \n",
       "min        1.000000      0.000000      0.000000      0.000000      0.000000   \n",
       "25%       63.000000      0.000000    222.800000     88.000000     24.400000   \n",
       "50%      118.000000      1.000000    234.000000    117.500000     30.800000   \n",
       "75%      228.000000     22.000000    289.600000    223.000000     45.900000   \n",
       "max     2212.000000   1112.000000    481.900000    489.000000    118.600000   \n",
       "\n",
       "             저녁통화시간        저녁통화횟수        저녁통화요금         밤통화시간         밤통화횟수  \\\n",
       "count  30200.000000  30200.000000  30200.000000  30200.000000  30200.000000   \n",
       "mean     263.247215    158.474536     25.394260    263.438285    157.047417   \n",
       "std       74.064922    102.200293      8.146126     73.778416    101.721601   \n",
       "min        0.100000      0.000000      0.000000     20.800000     20.000000   \n",
       "25%      223.700000     87.000000     22.220000    223.700000     87.000000   \n",
       "50%      243.000000    112.000000     23.320000    242.800000    108.000000   \n",
       "75%      290.300000    223.000000     28.820000    290.500000    222.000000   \n",
       "max      481.600000    489.000000     49.980000    481.800000    490.000000   \n",
       "\n",
       "              밤통화요금        상담전화건수        전화해지여부  \n",
       "count  30200.000000  30200.000000  30200.000000  \n",
       "mean      12.074648      2.288079      0.109868  \n",
       "std        9.414261      2.050746      0.312730  \n",
       "min        1.040000      0.000000      0.000000  \n",
       "25%        4.700000      2.000000      0.000000  \n",
       "50%        9.080000      2.000000      0.000000  \n",
       "75%       20.290000      2.000000      0.000000  \n",
       "max       44.980000     11.000000      1.000000  "
      ]
     },
     "execution_count": 36,
     "metadata": {},
     "output_type": "execute_result"
    }
   ],
   "source": [
    "train.describe()"
   ]
  },
  {
   "attachments": {},
   "cell_type": "markdown",
   "id": "3d25d861",
   "metadata": {},
   "source": [
    "- 평균 가입일수는 160일정도(5~6개월)\n",
    "- 통화횟수 평균을 비교해보면 주간(159) > 저녁(158) > 밤(157)\n",
    "    - 하루일과가 끝나고 저녁에 통화를 가장 많이 할 것이라 생각했는데 주간, 저녁, 밤 차이가 크지 않다..?\n",
    "    - 비슷한 양상을 보임\n",
    "\n",
    "- 통화시간 평균을 비교해보면 밤(263.43) >저녁(263.24) > 주간(250)\n",
    "    - 큰 차이는 아니지만 횟수와 반대로 나타남\n",
    "    - 저녁, 밤에는 지인들과 통화로 이야기 ↑ but 낮에는 업무전화로 횟수는 많지만 시간은 짧은거 아닐까?\n",
    "    \n",
    "- 통화 요금 평균을 비교해보면 주간(41) >> 저녁(25.39) >> 밤(12.07)\n",
    "    - 요금에서 가장 차이가 많이 나타남\n",
    "    - 밤에 전화를 많이 하는 사람들은 해지할 가능성이 적지 않을까?\n",
    "    - 그렇다고 주간에 업무 전화하는 사람들이 요금이 조금 더 높다고 전화를 해지할 수 있을꺼 같지는 않다.\n",
    "    - 그럼 어떤 특성을 가진 사람들이 해지할까\n",
    "\n",
    "- \n",
    "\n",
    "**궁금증**\n",
    "- 통화시간, 통화요금 모두 '분' 단위로 구성되어있음\n",
    "- 저녁, 밤통화횟수는 가입한 일로부터 지금까지 총 횟수를 의미하는 걸까?\n",
    "    - 가입일에 비례하는 변수이지 않을까?"
   ]
  },
  {
   "cell_type": "code",
   "execution_count": 37,
   "id": "3bfc1cbc",
   "metadata": {},
   "outputs": [
    {
     "data": {
      "image/png": "[encoded data removed]",
      "text/plain": [
       "<Figure size 1000x1000 with 16 Axes>"
      ]
     },
     "metadata": {},
     "output_type": "display_data"
    }
   ],
   "source": [
    "# 특별히 눈에 띄는 분포를 가지는 변수는 확인되지 않음\n",
    "train.hist(bins=50 , figsize=(10,10));\n",
    "plt.savefig('./train_hist.png')"
   ]
  },
  {
   "cell_type": "code",
   "execution_count": 38,
   "id": "80b4f758",
   "metadata": {},
   "outputs": [
    {
     "data": {
      "text/plain": [
       "0    26882\n",
       "1     3318\n",
       "Name: 전화해지여부, dtype: int64"
      ]
     },
     "execution_count": 38,
     "metadata": {},
     "output_type": "execute_result"
    }
   ],
   "source": [
    "# 종속변수인 '전화해지여부'는 0과 1로 구성된 범주형 변수\n",
    "train['전화해지여부'].value_counts()"
   ]
  },
  {
   "cell_type": "code",
   "execution_count": 39,
   "id": "a0dfee3c",
   "metadata": {},
   "outputs": [
    {
     "data": {
      "text/plain": [
       "0    0.890132\n",
       "1    0.109868\n",
       "Name: 전화해지여부, dtype: float64"
      ]
     },
     "execution_count": 39,
     "metadata": {},
     "output_type": "execute_result"
    }
   ],
   "source": [
    "# train 데이터에서 약 11%의 고객이 전화 해지함\n",
    "train['전화해지여부'].value_counts(1)"
   ]
  },
  {
   "cell_type": "code",
   "execution_count": 40,
   "id": "439d2678",
   "metadata": {},
   "outputs": [
    {
     "data": {
      "image/png": "[encoded data removed]",
      "text/plain": [
       "<Figure size 640x480 with 1 Axes>"
      ]
     },
     "metadata": {},
     "output_type": "display_data"
    }
   ],
   "source": [
    "# 불균형 데이터 → 샘플링 실시\n",
    "sns.scatterplot(data=train, x='밤통화요금', y='주간통화횟수',\n",
    "                hue='전화해지여부',\n",
    "                style='전화해지여부'\n",
    "               )\n",
    "plt.savefig('./train_scatter.png')"
   ]
  },
  {
   "attachments": {},
   "cell_type": "markdown",
   "id": "497d5d1b",
   "metadata": {},
   "source": [
    "## EDA"
   ]
  },
  {
   "attachments": {},
   "cell_type": "markdown",
   "id": "452cb93b",
   "metadata": {},
   "source": [
    "**결측치, 중복값 확인**"
   ]
  },
  {
   "cell_type": "code",
   "execution_count": 41,
   "id": "7b29d327",
   "metadata": {},
   "outputs": [
    {
     "data": {
      "text/plain": [
       "0"
      ]
     },
     "execution_count": 41,
     "metadata": {},
     "output_type": "execute_result"
    }
   ],
   "source": [
    "# 결측치 확인\n",
    "train.isnull().sum().sum()"
   ]
  },
  {
   "cell_type": "code",
   "execution_count": 42,
   "id": "dbb6c280",
   "metadata": {},
   "outputs": [
    {
     "data": {
      "text/plain": [
       "0"
      ]
     },
     "execution_count": 42,
     "metadata": {},
     "output_type": "execute_result"
    }
   ],
   "source": [
    "# 중복값\n",
    "train.duplicated().sum()"
   ]
  },
  {
   "attachments": {},
   "cell_type": "markdown",
   "id": "470a2af3",
   "metadata": {},
   "source": [
    "**이상치 확인**  \n",
    "- 극단적인 이상값: 가입일 이상치 대체하기"
   ]
  },
  {
   "cell_type": "code",
   "execution_count": 43,
   "id": "5bedf0f2",
   "metadata": {},
   "outputs": [
    {
     "data": {
      "image/png": "[encoded data removed]",
      "text/plain": [
       "<Figure size 1500x500 with 1 Axes>"
      ]
     },
     "metadata": {},
     "output_type": "display_data"
    }
   ],
   "source": [
    "train.boxplot(figsize=(15,5))\n",
    "plt.savefig('./train_box.png')"
   ]
  },
  {
   "attachments": {},
   "cell_type": "markdown",
   "id": "0086a1b8",
   "metadata": {},
   "source": [
    "### 가입일 이상치 처리"
   ]
  },
  {
   "cell_type": "code",
   "execution_count": 44,
   "id": "1c0be072",
   "metadata": {},
   "outputs": [],
   "source": [
    "#IQR 이용해서 이상치 구하기\n",
    "q3 = train.quantile(0.75) \n",
    "q1 = train.quantile(0.25)\n",
    "iqr = q3 - q1\n",
    "out_cut = iqr * 1.5\n",
    "\n",
    "# lower , upper bound\n",
    "lower , upper = q1 - out_cut , q3 + out_cut"
   ]
  },
  {
   "cell_type": "code",
   "execution_count": 45,
   "id": "672ee791",
   "metadata": {},
   "outputs": [
    {
     "name": "stdout",
     "output_type": "stream",
     "text": [
      "가입일의 이상치의 총 개수는 214개 입니다.\n"
     ]
    }
   ],
   "source": [
    "# 가입일 이상치\n",
    "out_day1 = train[\"가입일\"] > upper[0]\n",
    "out_day2 = train[\"가입일\"] < lower[0]\n",
    "count_true = sum(out_day1) + sum(out_day2)\n",
    "\n",
    "print(f\"가입일의 이상치의 총 개수는 {count_true}개 입니다.\")"
   ]
  },
  {
   "cell_type": "code",
   "execution_count": 46,
   "id": "02837a91",
   "metadata": {},
   "outputs": [
    {
     "data": {
      "text/html": [
       "<div>\n",
       "<style scoped>\n",
       "    .dataframe tbody tr th:only-of-type {\n",
       "        vertical-align: middle;\n",
       "    }\n",
       "\n",
       "    .dataframe tbody tr th {\n",
       "        vertical-align: top;\n",
       "    }\n",
       "\n",
       "    .dataframe thead th {\n",
       "        text-align: right;\n",
       "    }\n",
       "</style>\n",
       "<table border=\"1\" class=\"dataframe\">\n",
       "  <thead>\n",
       "    <tr style=\"text-align: right;\">\n",
       "      <th></th>\n",
       "      <th>가입일</th>\n",
       "      <th>음성사서함이용</th>\n",
       "      <th>주간통화시간</th>\n",
       "      <th>주간통화횟수</th>\n",
       "      <th>주간통화요금</th>\n",
       "      <th>저녁통화시간</th>\n",
       "      <th>저녁통화횟수</th>\n",
       "      <th>저녁통화요금</th>\n",
       "      <th>밤통화시간</th>\n",
       "      <th>밤통화횟수</th>\n",
       "      <th>밤통화요금</th>\n",
       "      <th>상담전화건수</th>\n",
       "      <th>전화해지여부</th>\n",
       "    </tr>\n",
       "    <tr>\n",
       "      <th>ID</th>\n",
       "      <th></th>\n",
       "      <th></th>\n",
       "      <th></th>\n",
       "      <th></th>\n",
       "      <th></th>\n",
       "      <th></th>\n",
       "      <th></th>\n",
       "      <th></th>\n",
       "      <th></th>\n",
       "      <th></th>\n",
       "      <th></th>\n",
       "      <th></th>\n",
       "      <th></th>\n",
       "    </tr>\n",
       "  </thead>\n",
       "  <tbody>\n",
       "    <tr>\n",
       "      <th>TRAIN_00061</th>\n",
       "      <td>488</td>\n",
       "      <td>0</td>\n",
       "      <td>444.9</td>\n",
       "      <td>489</td>\n",
       "      <td>45.1</td>\n",
       "      <td>449.1</td>\n",
       "      <td>444</td>\n",
       "      <td>49.4400</td>\n",
       "      <td>446.0</td>\n",
       "      <td>409</td>\n",
       "      <td>8.480</td>\n",
       "      <td>4</td>\n",
       "      <td>1</td>\n",
       "    </tr>\n",
       "    <tr>\n",
       "      <th>TRAIN_00119</th>\n",
       "      <td>489</td>\n",
       "      <td>0</td>\n",
       "      <td>444.5</td>\n",
       "      <td>449</td>\n",
       "      <td>45.8</td>\n",
       "      <td>450.4</td>\n",
       "      <td>68</td>\n",
       "      <td>44.4800</td>\n",
       "      <td>444.8</td>\n",
       "      <td>84</td>\n",
       "      <td>9.840</td>\n",
       "      <td>4</td>\n",
       "      <td>0</td>\n",
       "    </tr>\n",
       "    <tr>\n",
       "      <th>TRAIN_00361</th>\n",
       "      <td>485</td>\n",
       "      <td>1</td>\n",
       "      <td>445.5</td>\n",
       "      <td>405</td>\n",
       "      <td>45.7</td>\n",
       "      <td>469.8</td>\n",
       "      <td>95</td>\n",
       "      <td>44.8600</td>\n",
       "      <td>406.2</td>\n",
       "      <td>448</td>\n",
       "      <td>9.840</td>\n",
       "      <td>4</td>\n",
       "      <td>0</td>\n",
       "    </tr>\n",
       "    <tr>\n",
       "      <th>TRAIN_00384</th>\n",
       "      <td>911</td>\n",
       "      <td>0</td>\n",
       "      <td>228.5</td>\n",
       "      <td>63</td>\n",
       "      <td>117.8</td>\n",
       "      <td>202.5</td>\n",
       "      <td>221</td>\n",
       "      <td>22.6110</td>\n",
       "      <td>223.1</td>\n",
       "      <td>221</td>\n",
       "      <td>9.911</td>\n",
       "      <td>2</td>\n",
       "      <td>1</td>\n",
       "    </tr>\n",
       "    <tr>\n",
       "      <th>TRAIN_00405</th>\n",
       "      <td>2110</td>\n",
       "      <td>0</td>\n",
       "      <td>222.9</td>\n",
       "      <td>222</td>\n",
       "      <td>117.0</td>\n",
       "      <td>292.8</td>\n",
       "      <td>120</td>\n",
       "      <td>26.1111</td>\n",
       "      <td>223.8</td>\n",
       "      <td>99</td>\n",
       "      <td>20.920</td>\n",
       "      <td>2</td>\n",
       "      <td>0</td>\n",
       "    </tr>\n",
       "    <tr>\n",
       "      <th>...</th>\n",
       "      <td>...</td>\n",
       "      <td>...</td>\n",
       "      <td>...</td>\n",
       "      <td>...</td>\n",
       "      <td>...</td>\n",
       "      <td>...</td>\n",
       "      <td>...</td>\n",
       "      <td>...</td>\n",
       "      <td>...</td>\n",
       "      <td>...</td>\n",
       "      <td>...</td>\n",
       "      <td>...</td>\n",
       "      <td>...</td>\n",
       "    </tr>\n",
       "    <tr>\n",
       "      <th>TRAIN_29805</th>\n",
       "      <td>480</td>\n",
       "      <td>1</td>\n",
       "      <td>445.3</td>\n",
       "      <td>408</td>\n",
       "      <td>89.5</td>\n",
       "      <td>480.6</td>\n",
       "      <td>405</td>\n",
       "      <td>44.4800</td>\n",
       "      <td>448.4</td>\n",
       "      <td>48</td>\n",
       "      <td>9.440</td>\n",
       "      <td>8</td>\n",
       "      <td>0</td>\n",
       "    </tr>\n",
       "    <tr>\n",
       "      <th>TRAIN_29951</th>\n",
       "      <td>485</td>\n",
       "      <td>0</td>\n",
       "      <td>446.2</td>\n",
       "      <td>444</td>\n",
       "      <td>90.1</td>\n",
       "      <td>402.3</td>\n",
       "      <td>100</td>\n",
       "      <td>44.0600</td>\n",
       "      <td>447.6</td>\n",
       "      <td>448</td>\n",
       "      <td>8.480</td>\n",
       "      <td>4</td>\n",
       "      <td>0</td>\n",
       "    </tr>\n",
       "    <tr>\n",
       "      <th>TRAIN_30046</th>\n",
       "      <td>480</td>\n",
       "      <td>49</td>\n",
       "      <td>446.6</td>\n",
       "      <td>441</td>\n",
       "      <td>51.1</td>\n",
       "      <td>445.8</td>\n",
       "      <td>98</td>\n",
       "      <td>48.4900</td>\n",
       "      <td>441.5</td>\n",
       "      <td>64</td>\n",
       "      <td>9.940</td>\n",
       "      <td>4</td>\n",
       "      <td>0</td>\n",
       "    </tr>\n",
       "    <tr>\n",
       "      <th>TRAIN_30057</th>\n",
       "      <td>2113</td>\n",
       "      <td>30</td>\n",
       "      <td>230.3</td>\n",
       "      <td>202</td>\n",
       "      <td>114.1</td>\n",
       "      <td>207.2</td>\n",
       "      <td>209</td>\n",
       "      <td>22.1120</td>\n",
       "      <td>292.8</td>\n",
       "      <td>222</td>\n",
       "      <td>11.660</td>\n",
       "      <td>2</td>\n",
       "      <td>0</td>\n",
       "    </tr>\n",
       "    <tr>\n",
       "      <th>TRAIN_30065</th>\n",
       "      <td>911</td>\n",
       "      <td>212</td>\n",
       "      <td>261.5</td>\n",
       "      <td>113</td>\n",
       "      <td>22.7</td>\n",
       "      <td>202.3</td>\n",
       "      <td>202</td>\n",
       "      <td>22.2000</td>\n",
       "      <td>293.1</td>\n",
       "      <td>223</td>\n",
       "      <td>11.600</td>\n",
       "      <td>0</td>\n",
       "      <td>0</td>\n",
       "    </tr>\n",
       "  </tbody>\n",
       "</table>\n",
       "<p>214 rows × 13 columns</p>\n",
       "</div>"
      ],
      "text/plain": [
       "              가입일  음성사서함이용  주간통화시간  주간통화횟수  주간통화요금  저녁통화시간  저녁통화횟수   저녁통화요금  \\\n",
       "ID                                                                            \n",
       "TRAIN_00061   488        0   444.9     489    45.1   449.1     444  49.4400   \n",
       "TRAIN_00119   489        0   444.5     449    45.8   450.4      68  44.4800   \n",
       "TRAIN_00361   485        1   445.5     405    45.7   469.8      95  44.8600   \n",
       "TRAIN_00384   911        0   228.5      63   117.8   202.5     221  22.6110   \n",
       "TRAIN_00405  2110        0   222.9     222   117.0   292.8     120  26.1111   \n",
       "...           ...      ...     ...     ...     ...     ...     ...      ...   \n",
       "TRAIN_29805   480        1   445.3     408    89.5   480.6     405  44.4800   \n",
       "TRAIN_29951   485        0   446.2     444    90.1   402.3     100  44.0600   \n",
       "TRAIN_30046   480       49   446.6     441    51.1   445.8      98  48.4900   \n",
       "TRAIN_30057  2113       30   230.3     202   114.1   207.2     209  22.1120   \n",
       "TRAIN_30065   911      212   261.5     113    22.7   202.3     202  22.2000   \n",
       "\n",
       "             밤통화시간  밤통화횟수   밤통화요금  상담전화건수  전화해지여부  \n",
       "ID                                                 \n",
       "TRAIN_00061  446.0    409   8.480       4       1  \n",
       "TRAIN_00119  444.8     84   9.840       4       0  \n",
       "TRAIN_00361  406.2    448   9.840       4       0  \n",
       "TRAIN_00384  223.1    221   9.911       2       1  \n",
       "TRAIN_00405  223.8     99  20.920       2       0  \n",
       "...            ...    ...     ...     ...     ...  \n",
       "TRAIN_29805  448.4     48   9.440       8       0  \n",
       "TRAIN_29951  447.6    448   8.480       4       0  \n",
       "TRAIN_30046  441.5     64   9.940       4       0  \n",
       "TRAIN_30057  292.8    222  11.660       2       0  \n",
       "TRAIN_30065  293.1    223  11.600       0       0  \n",
       "\n",
       "[214 rows x 13 columns]"
      ]
     },
     "execution_count": 46,
     "metadata": {},
     "output_type": "execute_result"
    }
   ],
   "source": [
    "# 이상치에 해당되는 행 인덱스 구하기\n",
    "out_index = train.index[out_day1 == True].tolist()\n",
    "\n",
    "# 전체 데이터프레임에서 행인덱스를 이용하여 가입일 이상치인 행 추출하기\n",
    "train.loc[out_index]"
   ]
  },
  {
   "cell_type": "code",
   "execution_count": 47,
   "id": "5e4497d9",
   "metadata": {},
   "outputs": [
    {
     "data": {
      "text/html": [
       "<div>\n",
       "<style scoped>\n",
       "    .dataframe tbody tr th:only-of-type {\n",
       "        vertical-align: middle;\n",
       "    }\n",
       "\n",
       "    .dataframe tbody tr th {\n",
       "        vertical-align: top;\n",
       "    }\n",
       "\n",
       "    .dataframe thead th {\n",
       "        text-align: right;\n",
       "    }\n",
       "</style>\n",
       "<table border=\"1\" class=\"dataframe\">\n",
       "  <thead>\n",
       "    <tr style=\"text-align: right;\">\n",
       "      <th></th>\n",
       "      <th>가입일</th>\n",
       "      <th>음성사서함이용</th>\n",
       "      <th>주간통화시간</th>\n",
       "      <th>주간통화횟수</th>\n",
       "      <th>주간통화요금</th>\n",
       "      <th>저녁통화시간</th>\n",
       "      <th>저녁통화횟수</th>\n",
       "      <th>저녁통화요금</th>\n",
       "      <th>밤통화시간</th>\n",
       "      <th>밤통화횟수</th>\n",
       "      <th>밤통화요금</th>\n",
       "      <th>상담전화건수</th>\n",
       "      <th>전화해지여부</th>\n",
       "    </tr>\n",
       "    <tr>\n",
       "      <th>ID</th>\n",
       "      <th></th>\n",
       "      <th></th>\n",
       "      <th></th>\n",
       "      <th></th>\n",
       "      <th></th>\n",
       "      <th></th>\n",
       "      <th></th>\n",
       "      <th></th>\n",
       "      <th></th>\n",
       "      <th></th>\n",
       "      <th></th>\n",
       "      <th></th>\n",
       "      <th></th>\n",
       "    </tr>\n",
       "  </thead>\n",
       "  <tbody>\n",
       "    <tr>\n",
       "      <th>TRAIN_23074</th>\n",
       "      <td>912</td>\n",
       "      <td>0</td>\n",
       "      <td>70.2</td>\n",
       "      <td>29</td>\n",
       "      <td>23.4</td>\n",
       "      <td>290.4</td>\n",
       "      <td>210</td>\n",
       "      <td>26.22</td>\n",
       "      <td>231.0</td>\n",
       "      <td>202</td>\n",
       "      <td>9.9</td>\n",
       "      <td>0</td>\n",
       "      <td>0</td>\n",
       "    </tr>\n",
       "    <tr>\n",
       "      <th>TRAIN_28032</th>\n",
       "      <td>911</td>\n",
       "      <td>1</td>\n",
       "      <td>70.5</td>\n",
       "      <td>29</td>\n",
       "      <td>24.1</td>\n",
       "      <td>292.1</td>\n",
       "      <td>210</td>\n",
       "      <td>26.22</td>\n",
       "      <td>231.3</td>\n",
       "      <td>203</td>\n",
       "      <td>9.9</td>\n",
       "      <td>0</td>\n",
       "      <td>0</td>\n",
       "    </tr>\n",
       "  </tbody>\n",
       "</table>\n",
       "</div>"
      ],
      "text/plain": [
       "             가입일  음성사서함이용  주간통화시간  주간통화횟수  주간통화요금  저녁통화시간  저녁통화횟수  저녁통화요금  \\\n",
       "ID                                                                          \n",
       "TRAIN_23074  912        0    70.2      29    23.4   290.4     210   26.22   \n",
       "TRAIN_28032  911        1    70.5      29    24.1   292.1     210   26.22   \n",
       "\n",
       "             밤통화시간  밤통화횟수  밤통화요금  상담전화건수  전화해지여부  \n",
       "ID                                                \n",
       "TRAIN_23074  231.0    202    9.9       0       0  \n",
       "TRAIN_28032  231.3    203    9.9       0       0  "
      ]
     },
     "execution_count": 47,
     "metadata": {},
     "output_type": "execute_result"
    }
   ],
   "source": [
    "train.loc[train['가입일']<=1000].sort_values(by='가입일',ascending= False).head(2)"
   ]
  },
  {
   "cell_type": "code",
   "execution_count": 48,
   "id": "ac2da425",
   "metadata": {},
   "outputs": [],
   "source": [
    "# 가입일 1000 이상(25개) → 이상치 대체: 상한값(912)으로 대체\n",
    "train.loc[train['가입일']>=1000,'가입일'] = 912"
   ]
  },
  {
   "cell_type": "code",
   "execution_count": 49,
   "id": "9383d6b1",
   "metadata": {},
   "outputs": [
    {
     "data": {
      "image/png": "[encoded data removed]",
      "text/plain": [
       "<Figure size 640x480 with 1 Axes>"
      ]
     },
     "metadata": {},
     "output_type": "display_data"
    }
   ],
   "source": [
    "sns.boxplot(y='가입일', data = train)\n",
    "plt.savefig('./train_가입.png')"
   ]
  },
  {
   "attachments": {},
   "cell_type": "markdown",
   "id": "5f6f2331",
   "metadata": {},
   "source": [
    "### 음성사서함 이상치"
   ]
  },
  {
   "cell_type": "code",
   "execution_count": 50,
   "id": "57244ccd",
   "metadata": {},
   "outputs": [],
   "source": [
    "#IQR 이용해서 이상치 구하기\n",
    "q3 = train.quantile(0.75) \n",
    "q1 = train.quantile(0.25)\n",
    "iqr = q3 - q1\n",
    "out_cut = iqr * 1.5\n",
    "\n",
    "# lower , upper bound\n",
    "lower , upper = q1 - out_cut , q3 + out_cut"
   ]
  },
  {
   "cell_type": "code",
   "execution_count": 51,
   "id": "7574101c",
   "metadata": {},
   "outputs": [
    {
     "name": "stdout",
     "output_type": "stream",
     "text": [
      "음성사서함이용의 이상치의 총 개수는 1793개 입니다.\n"
     ]
    }
   ],
   "source": [
    "# 음성사서함이용 이상치\n",
    "out_voice1 = train[\"음성사서함이용\"] > upper[1]\n",
    "out_voice2 = train[\"음성사서함이용\"] < lower[1]\n",
    "count_true = sum(out_voice1) + sum(out_voice2)\n",
    "\n",
    "print(f\"음성사서함이용의 이상치의 총 개수는 {count_true}개 입니다.\")"
   ]
  },
  {
   "cell_type": "code",
   "execution_count": 52,
   "id": "139f279a",
   "metadata": {},
   "outputs": [
    {
     "data": {
      "text/html": [
       "<div>\n",
       "<style scoped>\n",
       "    .dataframe tbody tr th:only-of-type {\n",
       "        vertical-align: middle;\n",
       "    }\n",
       "\n",
       "    .dataframe tbody tr th {\n",
       "        vertical-align: top;\n",
       "    }\n",
       "\n",
       "    .dataframe thead th {\n",
       "        text-align: right;\n",
       "    }\n",
       "</style>\n",
       "<table border=\"1\" class=\"dataframe\">\n",
       "  <thead>\n",
       "    <tr style=\"text-align: right;\">\n",
       "      <th></th>\n",
       "      <th>가입일</th>\n",
       "      <th>음성사서함이용</th>\n",
       "      <th>주간통화시간</th>\n",
       "      <th>주간통화횟수</th>\n",
       "      <th>주간통화요금</th>\n",
       "      <th>저녁통화시간</th>\n",
       "      <th>저녁통화횟수</th>\n",
       "      <th>저녁통화요금</th>\n",
       "      <th>밤통화시간</th>\n",
       "      <th>밤통화횟수</th>\n",
       "      <th>밤통화요금</th>\n",
       "      <th>상담전화건수</th>\n",
       "      <th>전화해지여부</th>\n",
       "    </tr>\n",
       "    <tr>\n",
       "      <th>ID</th>\n",
       "      <th></th>\n",
       "      <th></th>\n",
       "      <th></th>\n",
       "      <th></th>\n",
       "      <th></th>\n",
       "      <th></th>\n",
       "      <th></th>\n",
       "      <th></th>\n",
       "      <th></th>\n",
       "      <th></th>\n",
       "      <th></th>\n",
       "      <th></th>\n",
       "      <th></th>\n",
       "    </tr>\n",
       "  </thead>\n",
       "  <tbody>\n",
       "    <tr>\n",
       "      <th>TRAIN_20070</th>\n",
       "      <td>911</td>\n",
       "      <td>212</td>\n",
       "      <td>260.4</td>\n",
       "      <td>112</td>\n",
       "      <td>23.6</td>\n",
       "      <td>203.5</td>\n",
       "      <td>202</td>\n",
       "      <td>22.200</td>\n",
       "      <td>293.2</td>\n",
       "      <td>223</td>\n",
       "      <td>11.60</td>\n",
       "      <td>0</td>\n",
       "      <td>0</td>\n",
       "    </tr>\n",
       "    <tr>\n",
       "      <th>TRAIN_28822</th>\n",
       "      <td>222</td>\n",
       "      <td>212</td>\n",
       "      <td>230.8</td>\n",
       "      <td>23</td>\n",
       "      <td>24.8</td>\n",
       "      <td>291.0</td>\n",
       "      <td>220</td>\n",
       "      <td>22.611</td>\n",
       "      <td>222.6</td>\n",
       "      <td>220</td>\n",
       "      <td>2.92</td>\n",
       "      <td>2</td>\n",
       "      <td>0</td>\n",
       "    </tr>\n",
       "  </tbody>\n",
       "</table>\n",
       "</div>"
      ],
      "text/plain": [
       "             가입일  음성사서함이용  주간통화시간  주간통화횟수  주간통화요금  저녁통화시간  저녁통화횟수  저녁통화요금  \\\n",
       "ID                                                                          \n",
       "TRAIN_20070  911      212   260.4     112    23.6   203.5     202  22.200   \n",
       "TRAIN_28822  222      212   230.8      23    24.8   291.0     220  22.611   \n",
       "\n",
       "             밤통화시간  밤통화횟수  밤통화요금  상담전화건수  전화해지여부  \n",
       "ID                                                \n",
       "TRAIN_20070  293.2    223  11.60       0       0  \n",
       "TRAIN_28822  222.6    220   2.92       2       0  "
      ]
     },
     "execution_count": 52,
     "metadata": {},
     "output_type": "execute_result"
    }
   ],
   "source": [
    "train.loc[train['음성사서함이용']<=1000].sort_values(by='음성사서함이용',ascending= False).head(2)"
   ]
  },
  {
   "cell_type": "code",
   "execution_count": 53,
   "id": "95e000cd",
   "metadata": {},
   "outputs": [],
   "source": [
    "# 음성사서함이용 1000 이상(3개) → 이상치 대체: 상한값(212)으로 대체\n",
    "train.loc[train['음성사서함이용']>=1000,'음성사서함이용'] = 212"
   ]
  },
  {
   "cell_type": "code",
   "execution_count": 54,
   "id": "ca037121",
   "metadata": {},
   "outputs": [
    {
     "data": {
      "image/png": "[encoded data removed]",
      "text/plain": [
       "<Figure size 640x480 with 1 Axes>"
      ]
     },
     "metadata": {},
     "output_type": "display_data"
    }
   ],
   "source": [
    "sns.boxplot(y='음성사서함이용', data = train , color='green')\n",
    "plt.savefig('./train_음성.png')"
   ]
  },
  {
   "attachments": {},
   "cell_type": "markdown",
   "id": "b7184d28",
   "metadata": {},
   "source": [
    "### 새로운 변수 생성해보기"
   ]
  },
  {
   "cell_type": "code",
   "execution_count": 56,
   "id": "69b00e26",
   "metadata": {},
   "outputs": [
    {
     "data": {
      "image/png": "[encoded data removed]",
      "text/plain": [
       "<Figure size 1500x900 with 2 Axes>"
      ]
     },
     "metadata": {},
     "output_type": "display_data"
    }
   ],
   "source": [
    "# 상관계수 시각화\n",
    "plt.figure(figsize=(15,9))\n",
    "mask = np.triu(np.ones_like(train.corr()))\n",
    "sns.heatmap(train.corr(), annot=True, mask=mask, cmap='coolwarm', vmin=-1, vmax=1);"
   ]
  },
  {
   "cell_type": "code",
   "execution_count": 57,
   "id": "afa7c7ec",
   "metadata": {},
   "outputs": [],
   "source": [
    "# 총통화요금\n",
    "train['총통화요금'] = train['주간통화요금'] + train['저녁통화요금'] + train['밤통화요금']\n",
    "# 총통화시간\n",
    "train['총통화시간'] = train['주간통화시간'] + train['저녁통화시간'] + train['밤통화시간']\n",
    "# 총통화횟수\n",
    "train['총통화횟수'] = train['주간통화횟수'] + train['저녁통화횟수'] + train['밤통화횟수']"
   ]
  },
  {
   "cell_type": "code",
   "execution_count": 58,
   "id": "ba858d1e",
   "metadata": {},
   "outputs": [
    {
     "data": {
      "image/png": "[encoded data removed]",
      "text/plain": [
       "<Figure size 1500x900 with 2 Axes>"
      ]
     },
     "metadata": {},
     "output_type": "display_data"
    }
   ],
   "source": [
    "# 상관계수 시각화\n",
    "plt.figure(figsize=(15,9))\n",
    "mask = np.triu(np.ones_like(train.corr()))\n",
    "sns.heatmap(train.corr(), annot=True, mask=mask, cmap='coolwarm', vmin=-1, vmax=1);"
   ]
  },
  {
   "cell_type": "code",
   "execution_count": 59,
   "id": "f89a6c59",
   "metadata": {},
   "outputs": [
    {
     "data": {
      "text/plain": [
       "전화해지여부     1.000000\n",
       "상담전화건수     0.057114\n",
       "주간통화시간     0.029975\n",
       "밤통화요금      0.014513\n",
       "총통화시간      0.011960\n",
       "주간통화횟수     0.010974\n",
       "가입일        0.007633\n",
       "총통화횟수      0.001818\n",
       "저녁통화요금     0.001711\n",
       "저녁통화시간    -0.000163\n",
       "밤통화시간     -0.002872\n",
       "밤통화횟수     -0.003121\n",
       "저녁통화횟수    -0.004276\n",
       "총통화요금     -0.051642\n",
       "음성사서함이용   -0.068173\n",
       "주간통화요금    -0.071006\n",
       "Name: 전화해지여부, dtype: float64"
      ]
     },
     "execution_count": 59,
     "metadata": {},
     "output_type": "execute_result"
    }
   ],
   "source": [
    "# 전화해지여부와 다른 변수간의 상관계수 -> 높은 상관관계없음\n",
    "train.corr()['전화해지여부'].sort_values(ascending = False)"
   ]
  },
  {
   "cell_type": "code",
   "execution_count": 60,
   "id": "5375cbc5",
   "metadata": {},
   "outputs": [
    {
     "data": {
      "text/html": [
       "<div>\n",
       "<style scoped>\n",
       "    .dataframe tbody tr th:only-of-type {\n",
       "        vertical-align: middle;\n",
       "    }\n",
       "\n",
       "    .dataframe tbody tr th {\n",
       "        vertical-align: top;\n",
       "    }\n",
       "\n",
       "    .dataframe thead th {\n",
       "        text-align: right;\n",
       "    }\n",
       "</style>\n",
       "<table border=\"1\" class=\"dataframe\">\n",
       "  <thead>\n",
       "    <tr style=\"text-align: right;\">\n",
       "      <th></th>\n",
       "      <th>가입일</th>\n",
       "      <th>음성사서함이용</th>\n",
       "      <th>상담전화건수</th>\n",
       "      <th>전화해지여부</th>\n",
       "      <th>총통화요금</th>\n",
       "      <th>총통화시간</th>\n",
       "      <th>총통화횟수</th>\n",
       "    </tr>\n",
       "    <tr>\n",
       "      <th>ID</th>\n",
       "      <th></th>\n",
       "      <th></th>\n",
       "      <th></th>\n",
       "      <th></th>\n",
       "      <th></th>\n",
       "      <th></th>\n",
       "      <th></th>\n",
       "    </tr>\n",
       "  </thead>\n",
       "  <tbody>\n",
       "    <tr>\n",
       "      <th>TRAIN_00000</th>\n",
       "      <td>329</td>\n",
       "      <td>0</td>\n",
       "      <td>2</td>\n",
       "      <td>0</td>\n",
       "      <td>89.11</td>\n",
       "      <td>630.9</td>\n",
       "      <td>489</td>\n",
       "    </tr>\n",
       "    <tr>\n",
       "      <th>TRAIN_00001</th>\n",
       "      <td>2</td>\n",
       "      <td>80</td>\n",
       "      <td>2</td>\n",
       "      <td>0</td>\n",
       "      <td>148.11</td>\n",
       "      <td>916.1</td>\n",
       "      <td>858</td>\n",
       "    </tr>\n",
       "    <tr>\n",
       "      <th>TRAIN_00002</th>\n",
       "      <td>93</td>\n",
       "      <td>28</td>\n",
       "      <td>0</td>\n",
       "      <td>0</td>\n",
       "      <td>75.30</td>\n",
       "      <td>770.2</td>\n",
       "      <td>973</td>\n",
       "    </tr>\n",
       "    <tr>\n",
       "      <th>TRAIN_00003</th>\n",
       "      <td>223</td>\n",
       "      <td>1</td>\n",
       "      <td>0</td>\n",
       "      <td>0</td>\n",
       "      <td>58.36</td>\n",
       "      <td>658.2</td>\n",
       "      <td>518</td>\n",
       "    </tr>\n",
       "    <tr>\n",
       "      <th>TRAIN_00004</th>\n",
       "      <td>222</td>\n",
       "      <td>0</td>\n",
       "      <td>8</td>\n",
       "      <td>0</td>\n",
       "      <td>59.58</td>\n",
       "      <td>583.3</td>\n",
       "      <td>514</td>\n",
       "    </tr>\n",
       "  </tbody>\n",
       "</table>\n",
       "</div>"
      ],
      "text/plain": [
       "             가입일  음성사서함이용  상담전화건수  전화해지여부   총통화요금  총통화시간  총통화횟수\n",
       "ID                                                             \n",
       "TRAIN_00000  329        0       2       0   89.11  630.9    489\n",
       "TRAIN_00001    2       80       2       0  148.11  916.1    858\n",
       "TRAIN_00002   93       28       0       0   75.30  770.2    973\n",
       "TRAIN_00003  223        1       0       0   58.36  658.2    518\n",
       "TRAIN_00004  222        0       8       0   59.58  583.3    514"
      ]
     },
     "execution_count": 60,
     "metadata": {},
     "output_type": "execute_result"
    }
   ],
   "source": [
    "train = train.drop(['주간통화시간','저녁통화시간','밤통화시간','주간통화횟수','저녁통화횟수','밤통화횟수',\n",
    "            '주간통화요금','저녁통화요금','밤통화요금'],axis = 1)\n",
    "train.head()"
   ]
  },
  {
   "cell_type": "code",
   "execution_count": 61,
   "id": "684b2dc8",
   "metadata": {},
   "outputs": [
    {
     "data": {
      "image/png": "[encoded data removed]",
      "text/plain": [
       "<Figure size 1500x900 with 2 Axes>"
      ]
     },
     "metadata": {},
     "output_type": "display_data"
    }
   ],
   "source": [
    "# 상관계수 시각화\n",
    "plt.figure(figsize=(15,9))\n",
    "mask = np.triu(np.ones_like(train.corr()))\n",
    "sns.heatmap(train.corr(), annot=True, mask=mask, cmap='coolwarm', vmin=-1, vmax=1);\n",
    "plt.savefig('./train_상관1.png')"
   ]
  },
  {
   "attachments": {},
   "cell_type": "markdown",
   "id": "81979c59",
   "metadata": {},
   "source": [
    "### StandardScaler 표준화"
   ]
  },
  {
   "cell_type": "code",
   "execution_count": 62,
   "id": "8f7da57d",
   "metadata": {},
   "outputs": [],
   "source": [
    "# 독립, 종속변수 분리\n",
    "X_train = train.drop('전화해지여부',axis = 1)\n",
    "y_train = train['전화해지여부']"
   ]
  },
  {
   "cell_type": "code",
   "execution_count": 63,
   "id": "4f77f313",
   "metadata": {},
   "outputs": [
    {
     "data": {
      "text/plain": [
       "array([[ 1.48154335, -0.53161028, -0.14047776,  0.36435862, -0.75902355,\n",
       "         0.07219523],\n",
       "       [-1.36710807,  3.0277407 , -0.14047776,  2.40207272,  0.7201364 ,\n",
       "         1.9348333 ],\n",
       "       [-0.5743641 ,  0.71416256, -1.11574866, -0.11260463, -0.03655868,\n",
       "         2.51533025],\n",
       "       ...,\n",
       "       [-1.17545568, -0.53161028, -0.14047776, -1.03682885, -0.1418425 ,\n",
       "        -1.58853084],\n",
       "       [-0.83570826, -0.4871184 , -0.14047776,  0.02761773,  0.24195075,\n",
       "         1.09185076],\n",
       "       [ 0.35776343, -0.4871184 , -1.11574866,  1.49891639,  0.87676554,\n",
       "         0.67288339]])"
      ]
     },
     "execution_count": 63,
     "metadata": {},
     "output_type": "execute_result"
    }
   ],
   "source": [
    "# 숫자형 데이터 표준화(StandardScaler)\n",
    "from sklearn.preprocessing import StandardScaler\n",
    "scaler = StandardScaler() \n",
    "X_train = scaler.fit_transform(X_train)\n",
    "\n",
    "X_train"
   ]
  },
  {
   "attachments": {},
   "cell_type": "markdown",
   "id": "a9882287",
   "metadata": {},
   "source": [
    "### test 데이터에도 동일하게 전처리 실행"
   ]
  },
  {
   "cell_type": "code",
   "execution_count": 64,
   "id": "5dc47c03",
   "metadata": {},
   "outputs": [],
   "source": [
    "# 가입일 1000 이상 → 이상치 대체: 상한값(912)으로 대체\n",
    "test.loc[test['가입일']>=1000,'가입일'] = 912"
   ]
  },
  {
   "cell_type": "code",
   "execution_count": 65,
   "id": "63b6e0ad",
   "metadata": {},
   "outputs": [],
   "source": [
    "# 음성사서함이용 1000 이상 → 이상치 대체: 상한값(212)으로 대체\n",
    "test.loc[test['음성사서함이용']>=1000,'음성사서함이용'] = 212"
   ]
  },
  {
   "cell_type": "code",
   "execution_count": 66,
   "id": "81f2f6ab",
   "metadata": {},
   "outputs": [],
   "source": [
    "# 총통화요금\n",
    "test['총통화요금'] = test['주간통화요금'] + test['저녁통화요금'] + test['밤통화요금']\n",
    "# 총통화시간\n",
    "test['총통화시간'] = test['주간통화시간'] + test['저녁통화시간'] + test['밤통화시간']\n",
    "# 총통화횟수\n",
    "test['총통화횟수'] = test['주간통화횟수'] + test['저녁통화횟수'] + test['밤통화횟수']"
   ]
  },
  {
   "cell_type": "code",
   "execution_count": 67,
   "id": "edd09626",
   "metadata": {},
   "outputs": [
    {
     "data": {
      "text/html": [
       "<div>\n",
       "<style scoped>\n",
       "    .dataframe tbody tr th:only-of-type {\n",
       "        vertical-align: middle;\n",
       "    }\n",
       "\n",
       "    .dataframe tbody tr th {\n",
       "        vertical-align: top;\n",
       "    }\n",
       "\n",
       "    .dataframe thead th {\n",
       "        text-align: right;\n",
       "    }\n",
       "</style>\n",
       "<table border=\"1\" class=\"dataframe\">\n",
       "  <thead>\n",
       "    <tr style=\"text-align: right;\">\n",
       "      <th></th>\n",
       "      <th>가입일</th>\n",
       "      <th>음성사서함이용</th>\n",
       "      <th>상담전화건수</th>\n",
       "      <th>총통화요금</th>\n",
       "      <th>총통화시간</th>\n",
       "      <th>총통화횟수</th>\n",
       "    </tr>\n",
       "    <tr>\n",
       "      <th>ID</th>\n",
       "      <th></th>\n",
       "      <th></th>\n",
       "      <th></th>\n",
       "      <th></th>\n",
       "      <th></th>\n",
       "      <th></th>\n",
       "    </tr>\n",
       "  </thead>\n",
       "  <tbody>\n",
       "    <tr>\n",
       "      <th>TEST_00000</th>\n",
       "      <td>110</td>\n",
       "      <td>0</td>\n",
       "      <td>2</td>\n",
       "      <td>58.40</td>\n",
       "      <td>537.5</td>\n",
       "      <td>346</td>\n",
       "    </tr>\n",
       "    <tr>\n",
       "      <th>TEST_00001</th>\n",
       "      <td>283</td>\n",
       "      <td>1</td>\n",
       "      <td>0</td>\n",
       "      <td>67.44</td>\n",
       "      <td>841.5</td>\n",
       "      <td>281</td>\n",
       "    </tr>\n",
       "    <tr>\n",
       "      <th>TEST_00002</th>\n",
       "      <td>34</td>\n",
       "      <td>1</td>\n",
       "      <td>2</td>\n",
       "      <td>52.74</td>\n",
       "      <td>561.6</td>\n",
       "      <td>439</td>\n",
       "    </tr>\n",
       "    <tr>\n",
       "      <th>TEST_00003</th>\n",
       "      <td>209</td>\n",
       "      <td>86</td>\n",
       "      <td>6</td>\n",
       "      <td>49.79</td>\n",
       "      <td>620.5</td>\n",
       "      <td>394</td>\n",
       "    </tr>\n",
       "    <tr>\n",
       "      <th>TEST_00004</th>\n",
       "      <td>202</td>\n",
       "      <td>0</td>\n",
       "      <td>2</td>\n",
       "      <td>64.05</td>\n",
       "      <td>811.0</td>\n",
       "      <td>80</td>\n",
       "    </tr>\n",
       "  </tbody>\n",
       "</table>\n",
       "</div>"
      ],
      "text/plain": [
       "            가입일  음성사서함이용  상담전화건수  총통화요금  총통화시간  총통화횟수\n",
       "ID                                                   \n",
       "TEST_00000  110        0       2  58.40  537.5    346\n",
       "TEST_00001  283        1       0  67.44  841.5    281\n",
       "TEST_00002   34        1       2  52.74  561.6    439\n",
       "TEST_00003  209       86       6  49.79  620.5    394\n",
       "TEST_00004  202        0       2  64.05  811.0     80"
      ]
     },
     "execution_count": 67,
     "metadata": {},
     "output_type": "execute_result"
    }
   ],
   "source": [
    "\n",
    "test = test.drop(['주간통화시간','저녁통화시간','밤통화시간','주간통화횟수','저녁통화횟수','밤통화횟수',\n",
    "            '주간통화요금','저녁통화요금','밤통화요금'],axis = 1)\n",
    "test.head()"
   ]
  },
  {
   "cell_type": "code",
   "execution_count": 68,
   "id": "5ca0a6e5",
   "metadata": {},
   "outputs": [
    {
     "data": {
      "text/plain": [
       "array([[-0.43146662, -0.53231054, -0.14643447, -0.68894644, -1.2404147 ,\n",
       "        -0.6539674 ],\n",
       "       [ 1.07864296, -0.48833357, -1.11788566, -0.37789342,  0.32247046,\n",
       "        -0.97825193],\n",
       "       [-1.09486737, -0.48833357, -0.14643447, -0.88369866, -1.11651492,\n",
       "        -0.18999108],\n",
       "       ...,\n",
       "       [-0.53621411,  0.74302146, -0.14643447,  0.06735283, -0.52169317,\n",
       "         0.7130166 ],\n",
       "       [-1.19088589,  0.78699843, -1.11788566, -0.74193556, -0.41167428,\n",
       "        -0.64398942],\n",
       "       [-1.14724111,  0.4351827 , -0.14643447, -1.02374133, -0.33610055,\n",
       "         0.19416136]])"
      ]
     },
     "execution_count": 68,
     "metadata": {},
     "output_type": "execute_result"
    }
   ],
   "source": [
    "# 테스트 데이터 숫자형 데이터 표준화(StandardScaler)\n",
    "from sklearn.preprocessing import StandardScaler\n",
    "scaler = StandardScaler() \n",
    "test = scaler.fit_transform(test)\n",
    "\n",
    "test"
   ]
  },
  {
   "attachments": {},
   "cell_type": "markdown",
   "id": "38deb41f",
   "metadata": {},
   "source": [
    "## 언더 샘플링"
   ]
  },
  {
   "attachments": {},
   "cell_type": "markdown",
   "id": "bf88ef81",
   "metadata": {},
   "source": [
    "- RandomUnderSampler"
   ]
  },
  {
   "cell_type": "code",
   "execution_count": 69,
   "id": "2f19315a",
   "metadata": {},
   "outputs": [
    {
     "name": "stdout",
     "output_type": "stream",
     "text": [
      "Original dataset shape: (30200, 6) (30200,)\n",
      "Resampled dataset shape: (6636, 6) (6636,)\n"
     ]
    }
   ],
   "source": [
    "# 라이브버리 import\n",
    "from imblearn.under_sampling import RandomUnderSampler\n",
    "\n",
    "# undersampling 정의\n",
    "undersample = RandomUnderSampler() \n",
    "\n",
    "# Fit and apply undersampling to the dataset\n",
    "X_resampled, y_resampled = undersample.fit_resample(X_train, y_train)\n",
    "\n",
    "# 각 데이터의 shape 출력\n",
    "print('Original dataset shape:', X_train.shape, y_train.shape)\n",
    "print('Resampled dataset shape:', X_resampled.shape, y_resampled.shape)"
   ]
  },
  {
   "attachments": {},
   "cell_type": "markdown",
   "id": "bb423bfa",
   "metadata": {},
   "source": [
    "## 모델 학습\n",
    "1. RandomForestClassifier"
   ]
  },
  {
   "cell_type": "code",
   "execution_count": null,
   "id": "1418cc4d",
   "metadata": {},
   "outputs": [],
   "source": [
    "!pip install -U imbalanced-learn"
   ]
  },
  {
   "cell_type": "code",
   "execution_count": 71,
   "id": "d0e874a0",
   "metadata": {},
   "outputs": [
    {
     "data": {
      "text/html": [
       "<style>#sk-container-id-1 {color: black;background-color: white;}#sk-container-id-1 pre{padding: 0;}#sk-container-id-1 div.sk-toggleable {background-color: white;}#sk-container-id-1 label.sk-toggleable__label {cursor: pointer;display: block;width: 100%;margin-bottom: 0;padding: 0.3em;box-sizing: border-box;text-align: center;}#sk-container-id-1 label.sk-toggleable__label-arrow:before {content: \"▸\";float: left;margin-right: 0.25em;color: #696969;}#sk-container-id-1 label.sk-toggleable__label-arrow:hover:before {color: black;}#sk-container-id-1 div.sk-estimator:hover label.sk-toggleable__label-arrow:before {color: black;}#sk-container-id-1 div.sk-toggleable__content {max-height: 0;max-width: 0;overflow: hidden;text-align: left;background-color: #f0f8ff;}#sk-container-id-1 div.sk-toggleable__content pre {margin: 0.2em;color: black;border-radius: 0.25em;background-color: #f0f8ff;}#sk-container-id-1 input.sk-toggleable__control:checked~div.sk-toggleable__content {max-height: 200px;max-width: 100%;overflow: auto;}#sk-container-id-1 input.sk-toggleable__control:checked~label.sk-toggleable__label-arrow:before {content: \"▾\";}#sk-container-id-1 div.sk-estimator input.sk-toggleable__control:checked~label.sk-toggleable__label {background-color: #d4ebff;}#sk-container-id-1 div.sk-label input.sk-toggleable__control:checked~label.sk-toggleable__label {background-color: #d4ebff;}#sk-container-id-1 input.sk-hidden--visually {border: 0;clip: rect(1px 1px 1px 1px);clip: rect(1px, 1px, 1px, 1px);height: 1px;margin: -1px;overflow: hidden;padding: 0;position: absolute;width: 1px;}#sk-container-id-1 div.sk-estimator {font-family: monospace;background-color: #f0f8ff;border: 1px dotted black;border-radius: 0.25em;box-sizing: border-box;margin-bottom: 0.5em;}#sk-container-id-1 div.sk-estimator:hover {background-color: #d4ebff;}#sk-container-id-1 div.sk-parallel-item::after {content: \"\";width: 100%;border-bottom: 1px solid gray;flex-grow: 1;}#sk-container-id-1 div.sk-label:hover label.sk-toggleable__label {background-color: #d4ebff;}#sk-container-id-1 div.sk-serial::before {content: \"\";position: absolute;border-left: 1px solid gray;box-sizing: border-box;top: 0;bottom: 0;left: 50%;z-index: 0;}#sk-container-id-1 div.sk-serial {display: flex;flex-direction: column;align-items: center;background-color: white;padding-right: 0.2em;padding-left: 0.2em;position: relative;}#sk-container-id-1 div.sk-item {position: relative;z-index: 1;}#sk-container-id-1 div.sk-parallel {display: flex;align-items: stretch;justify-content: center;background-color: white;position: relative;}#sk-container-id-1 div.sk-item::before, #sk-container-id-1 div.sk-parallel-item::before {content: \"\";position: absolute;border-left: 1px solid gray;box-sizing: border-box;top: 0;bottom: 0;left: 50%;z-index: -1;}#sk-container-id-1 div.sk-parallel-item {display: flex;flex-direction: column;z-index: 1;position: relative;background-color: white;}#sk-container-id-1 div.sk-parallel-item:first-child::after {align-self: flex-end;width: 50%;}#sk-container-id-1 div.sk-parallel-item:last-child::after {align-self: flex-start;width: 50%;}#sk-container-id-1 div.sk-parallel-item:only-child::after {width: 0;}#sk-container-id-1 div.sk-dashed-wrapped {border: 1px dashed gray;margin: 0 0.4em 0.5em 0.4em;box-sizing: border-box;padding-bottom: 0.4em;background-color: white;}#sk-container-id-1 div.sk-label label {font-family: monospace;font-weight: bold;display: inline-block;line-height: 1.2em;}#sk-container-id-1 div.sk-label-container {text-align: center;}#sk-container-id-1 div.sk-container {/* jupyter's `normalize.less` sets `[hidden] { display: none; }` but bootstrap.min.css set `[hidden] { display: none !important; }` so we also need the `!important` here to be able to override the default hidden behavior on the sphinx rendered scikit-learn.org. See: https://github.com/scikit-learn/scikit-learn/issues/21755 */display: inline-block !important;position: relative;}#sk-container-id-1 div.sk-text-repr-fallback {display: none;}</style><div id=\"sk-container-id-1\" class=\"sk-top-container\"><div class=\"sk-text-repr-fallback\"><pre>GridSearchCV(cv=10, estimator=RandomForestClassifier(random_state=42),\n",
       "             n_jobs=-1,\n",
       "             param_grid={&#x27;criterion&#x27;: [&#x27;gini&#x27;], &#x27;max_depth&#x27;: [6, 8, 10, 12],\n",
       "                         &#x27;min_samples_leaf&#x27;: [8, 12, 18],\n",
       "                         &#x27;min_samples_split&#x27;: [8, 16, 20],\n",
       "                         &#x27;n_estimators&#x27;: [100, 200, 300]},\n",
       "             scoring=&#x27;f1_macro&#x27;)</pre><b>In a Jupyter environment, please rerun this cell to show the HTML representation or trust the notebook. <br />On GitHub, the HTML representation is unable to render, please try loading this page with nbviewer.org.</b></div><div class=\"sk-container\" hidden><div class=\"sk-item sk-dashed-wrapped\"><div class=\"sk-label-container\"><div class=\"sk-label sk-toggleable\"><input class=\"sk-toggleable__control sk-hidden--visually\" id=\"sk-estimator-id-1\" type=\"checkbox\" ><label for=\"sk-estimator-id-1\" class=\"sk-toggleable__label sk-toggleable__label-arrow\">GridSearchCV</label><div class=\"sk-toggleable__content\"><pre>GridSearchCV(cv=10, estimator=RandomForestClassifier(random_state=42),\n",
       "             n_jobs=-1,\n",
       "             param_grid={&#x27;criterion&#x27;: [&#x27;gini&#x27;], &#x27;max_depth&#x27;: [6, 8, 10, 12],\n",
       "                         &#x27;min_samples_leaf&#x27;: [8, 12, 18],\n",
       "                         &#x27;min_samples_split&#x27;: [8, 16, 20],\n",
       "                         &#x27;n_estimators&#x27;: [100, 200, 300]},\n",
       "             scoring=&#x27;f1_macro&#x27;)</pre></div></div></div><div class=\"sk-parallel\"><div class=\"sk-parallel-item\"><div class=\"sk-item\"><div class=\"sk-label-container\"><div class=\"sk-label sk-toggleable\"><input class=\"sk-toggleable__control sk-hidden--visually\" id=\"sk-estimator-id-2\" type=\"checkbox\" ><label for=\"sk-estimator-id-2\" class=\"sk-toggleable__label sk-toggleable__label-arrow\">estimator: RandomForestClassifier</label><div class=\"sk-toggleable__content\"><pre>RandomForestClassifier(random_state=42)</pre></div></div></div><div class=\"sk-serial\"><div class=\"sk-item\"><div class=\"sk-estimator sk-toggleable\"><input class=\"sk-toggleable__control sk-hidden--visually\" id=\"sk-estimator-id-3\" type=\"checkbox\" ><label for=\"sk-estimator-id-3\" class=\"sk-toggleable__label sk-toggleable__label-arrow\">RandomForestClassifier</label><div class=\"sk-toggleable__content\"><pre>RandomForestClassifier(random_state=42)</pre></div></div></div></div></div></div></div></div></div></div>"
      ],
      "text/plain": [
       "GridSearchCV(cv=10, estimator=RandomForestClassifier(random_state=42),\n",
       "             n_jobs=-1,\n",
       "             param_grid={'criterion': ['gini'], 'max_depth': [6, 8, 10, 12],\n",
       "                         'min_samples_leaf': [8, 12, 18],\n",
       "                         'min_samples_split': [8, 16, 20],\n",
       "                         'n_estimators': [100, 200, 300]},\n",
       "             scoring='f1_macro')"
      ]
     },
     "execution_count": 71,
     "metadata": {},
     "output_type": "execute_result"
    }
   ],
   "source": [
    "# GridSearchCV 이용하여 파이퍼 파라미터 결정\n",
    "from sklearn.model_selection import GridSearchCV\n",
    "from sklearn.ensemble import RandomForestClassifier\n",
    "\n",
    "params ={\n",
    "    'n_estimators':[100,200,300],\n",
    "    'max_depth':[6,8,10,12],\n",
    "    'min_samples_leaf':[8,12,18],\n",
    "    'min_samples_split':[8,16,20],\n",
    "    'criterion':['gini']\n",
    "    }\n",
    "    \n",
    "forest_clf = RandomForestClassifier(random_state=42)\n",
    "\n",
    "grid_cv = GridSearchCV(forest_clf, param_grid=params, scoring=\"f1_macro\", n_jobs = -1 , cv = 10)\n",
    "grid_cv.fit(X_resampled,y_resampled)"
   ]
  },
  {
   "cell_type": "code",
   "execution_count": 72,
   "id": "c624aa92",
   "metadata": {},
   "outputs": [
    {
     "data": {
      "text/html": [
       "<style>#sk-container-id-2 {color: black;background-color: white;}#sk-container-id-2 pre{padding: 0;}#sk-container-id-2 div.sk-toggleable {background-color: white;}#sk-container-id-2 label.sk-toggleable__label {cursor: pointer;display: block;width: 100%;margin-bottom: 0;padding: 0.3em;box-sizing: border-box;text-align: center;}#sk-container-id-2 label.sk-toggleable__label-arrow:before {content: \"▸\";float: left;margin-right: 0.25em;color: #696969;}#sk-container-id-2 label.sk-toggleable__label-arrow:hover:before {color: black;}#sk-container-id-2 div.sk-estimator:hover label.sk-toggleable__label-arrow:before {color: black;}#sk-container-id-2 div.sk-toggleable__content {max-height: 0;max-width: 0;overflow: hidden;text-align: left;background-color: #f0f8ff;}#sk-container-id-2 div.sk-toggleable__content pre {margin: 0.2em;color: black;border-radius: 0.25em;background-color: #f0f8ff;}#sk-container-id-2 input.sk-toggleable__control:checked~div.sk-toggleable__content {max-height: 200px;max-width: 100%;overflow: auto;}#sk-container-id-2 input.sk-toggleable__control:checked~label.sk-toggleable__label-arrow:before {content: \"▾\";}#sk-container-id-2 div.sk-estimator input.sk-toggleable__control:checked~label.sk-toggleable__label {background-color: #d4ebff;}#sk-container-id-2 div.sk-label input.sk-toggleable__control:checked~label.sk-toggleable__label {background-color: #d4ebff;}#sk-container-id-2 input.sk-hidden--visually {border: 0;clip: rect(1px 1px 1px 1px);clip: rect(1px, 1px, 1px, 1px);height: 1px;margin: -1px;overflow: hidden;padding: 0;position: absolute;width: 1px;}#sk-container-id-2 div.sk-estimator {font-family: monospace;background-color: #f0f8ff;border: 1px dotted black;border-radius: 0.25em;box-sizing: border-box;margin-bottom: 0.5em;}#sk-container-id-2 div.sk-estimator:hover {background-color: #d4ebff;}#sk-container-id-2 div.sk-parallel-item::after {content: \"\";width: 100%;border-bottom: 1px solid gray;flex-grow: 1;}#sk-container-id-2 div.sk-label:hover label.sk-toggleable__label {background-color: #d4ebff;}#sk-container-id-2 div.sk-serial::before {content: \"\";position: absolute;border-left: 1px solid gray;box-sizing: border-box;top: 0;bottom: 0;left: 50%;z-index: 0;}#sk-container-id-2 div.sk-serial {display: flex;flex-direction: column;align-items: center;background-color: white;padding-right: 0.2em;padding-left: 0.2em;position: relative;}#sk-container-id-2 div.sk-item {position: relative;z-index: 1;}#sk-container-id-2 div.sk-parallel {display: flex;align-items: stretch;justify-content: center;background-color: white;position: relative;}#sk-container-id-2 div.sk-item::before, #sk-container-id-2 div.sk-parallel-item::before {content: \"\";position: absolute;border-left: 1px solid gray;box-sizing: border-box;top: 0;bottom: 0;left: 50%;z-index: -1;}#sk-container-id-2 div.sk-parallel-item {display: flex;flex-direction: column;z-index: 1;position: relative;background-color: white;}#sk-container-id-2 div.sk-parallel-item:first-child::after {align-self: flex-end;width: 50%;}#sk-container-id-2 div.sk-parallel-item:last-child::after {align-self: flex-start;width: 50%;}#sk-container-id-2 div.sk-parallel-item:only-child::after {width: 0;}#sk-container-id-2 div.sk-dashed-wrapped {border: 1px dashed gray;margin: 0 0.4em 0.5em 0.4em;box-sizing: border-box;padding-bottom: 0.4em;background-color: white;}#sk-container-id-2 div.sk-label label {font-family: monospace;font-weight: bold;display: inline-block;line-height: 1.2em;}#sk-container-id-2 div.sk-label-container {text-align: center;}#sk-container-id-2 div.sk-container {/* jupyter's `normalize.less` sets `[hidden] { display: none; }` but bootstrap.min.css set `[hidden] { display: none !important; }` so we also need the `!important` here to be able to override the default hidden behavior on the sphinx rendered scikit-learn.org. See: https://github.com/scikit-learn/scikit-learn/issues/21755 */display: inline-block !important;position: relative;}#sk-container-id-2 div.sk-text-repr-fallback {display: none;}</style><div id=\"sk-container-id-2\" class=\"sk-top-container\"><div class=\"sk-text-repr-fallback\"><pre>RandomForestClassifier(max_depth=12, min_samples_leaf=8, min_samples_split=20,\n",
       "                       n_estimators=200, random_state=42)</pre><b>In a Jupyter environment, please rerun this cell to show the HTML representation or trust the notebook. <br />On GitHub, the HTML representation is unable to render, please try loading this page with nbviewer.org.</b></div><div class=\"sk-container\" hidden><div class=\"sk-item\"><div class=\"sk-estimator sk-toggleable\"><input class=\"sk-toggleable__control sk-hidden--visually\" id=\"sk-estimator-id-4\" type=\"checkbox\" checked><label for=\"sk-estimator-id-4\" class=\"sk-toggleable__label sk-toggleable__label-arrow\">RandomForestClassifier</label><div class=\"sk-toggleable__content\"><pre>RandomForestClassifier(max_depth=12, min_samples_leaf=8, min_samples_split=20,\n",
       "                       n_estimators=200, random_state=42)</pre></div></div></div></div></div>"
      ],
      "text/plain": [
       "RandomForestClassifier(max_depth=12, min_samples_leaf=8, min_samples_split=20,\n",
       "                       n_estimators=200, random_state=42)"
      ]
     },
     "execution_count": 72,
     "metadata": {},
     "output_type": "execute_result"
    }
   ],
   "source": [
    "grid_cv.best_estimator_"
   ]
  },
  {
   "cell_type": "code",
   "execution_count": 73,
   "id": "8aeaa904",
   "metadata": {},
   "outputs": [],
   "source": [
    "rf_1=RandomForestClassifier(n_estimators=200, max_depth=12, min_samples_leaf=8,\n",
    "                           min_samples_split=20, random_state=42)"
   ]
  },
  {
   "cell_type": "code",
   "execution_count": 78,
   "id": "21c880d0",
   "metadata": {},
   "outputs": [
    {
     "data": {
      "text/plain": [
       "0.686177822170251"
      ]
     },
     "execution_count": 78,
     "metadata": {},
     "output_type": "execute_result"
    }
   ],
   "source": [
    "from sklearn.model_selection import cross_val_score\n",
    "\n",
    "forest_scores = cross_val_score(rf_1, X_resampled, y_resampled, scoring='f1', cv=10)\n",
    "forest_scores = forest_scores.mean()\n",
    "forest_scores"
   ]
  },
  {
   "cell_type": "code",
   "execution_count": 79,
   "id": "af476a6e",
   "metadata": {},
   "outputs": [],
   "source": [
    "rf_1.fit(X_resampled,y_resampled)\n",
    "pred=rf_1.predict(test)"
   ]
  },
  {
   "cell_type": "code",
   "execution_count": 80,
   "id": "e55b4298",
   "metadata": {},
   "outputs": [
    {
     "data": {
      "text/html": [
       "<div>\n",
       "<style scoped>\n",
       "    .dataframe tbody tr th:only-of-type {\n",
       "        vertical-align: middle;\n",
       "    }\n",
       "\n",
       "    .dataframe tbody tr th {\n",
       "        vertical-align: top;\n",
       "    }\n",
       "\n",
       "    .dataframe thead th {\n",
       "        text-align: right;\n",
       "    }\n",
       "</style>\n",
       "<table border=\"1\" class=\"dataframe\">\n",
       "  <thead>\n",
       "    <tr style=\"text-align: right;\">\n",
       "      <th></th>\n",
       "      <th>ID</th>\n",
       "      <th>전화해지여부</th>\n",
       "    </tr>\n",
       "  </thead>\n",
       "  <tbody>\n",
       "    <tr>\n",
       "      <th>0</th>\n",
       "      <td>TEST_00000</td>\n",
       "      <td>0</td>\n",
       "    </tr>\n",
       "    <tr>\n",
       "      <th>1</th>\n",
       "      <td>TEST_00001</td>\n",
       "      <td>1</td>\n",
       "    </tr>\n",
       "  </tbody>\n",
       "</table>\n",
       "</div>"
      ],
      "text/plain": [
       "           ID  전화해지여부\n",
       "0  TEST_00000       0\n",
       "1  TEST_00001       1"
      ]
     },
     "execution_count": 80,
     "metadata": {},
     "output_type": "execute_result"
    }
   ],
   "source": [
    "# submit\n",
    "sample_submission[\"전화해지여부\"] = pred\n",
    "sample_submission.head(2)"
   ]
  },
  {
   "cell_type": "code",
   "execution_count": 81,
   "id": "e223ceae",
   "metadata": {},
   "outputs": [],
   "source": [
    "# 캐글에 제출\n",
    "file_name = f'./under_randomforest_{forest_scores:.5f}.csv'\n",
    "sample_submission.to_csv(file_name,index = False)"
   ]
  },
  {
   "attachments": {},
   "cell_type": "markdown",
   "id": "0f272d25",
   "metadata": {},
   "source": [
    "2. QDA 분석"
   ]
  },
  {
   "cell_type": "code",
   "execution_count": 82,
   "id": "a25e94b1",
   "metadata": {},
   "outputs": [],
   "source": [
    "from sklearn.discriminant_analysis import QuadraticDiscriminantAnalysis\n",
    "\n",
    "qda_model = QuadraticDiscriminantAnalysis()"
   ]
  },
  {
   "cell_type": "code",
   "execution_count": 83,
   "id": "a2663947",
   "metadata": {},
   "outputs": [
    {
     "data": {
      "text/plain": [
       "0.6505341198730121"
      ]
     },
     "execution_count": 83,
     "metadata": {},
     "output_type": "execute_result"
    }
   ],
   "source": [
    "from sklearn.model_selection import cross_val_score\n",
    "\n",
    "qda_scores = cross_val_score(qda_model, X_resampled, y_resampled, scoring='f1', cv=10)\n",
    "qda_scores = qda_scores.mean()\n",
    "qda_scores"
   ]
  },
  {
   "cell_type": "code",
   "execution_count": 84,
   "id": "919d96eb",
   "metadata": {},
   "outputs": [],
   "source": [
    "qda_model.fit(X_resampled,y_resampled)\n",
    "pred_qda=qda_model.predict(test)"
   ]
  },
  {
   "cell_type": "code",
   "execution_count": 85,
   "id": "ef452ce8",
   "metadata": {},
   "outputs": [
    {
     "data": {
      "text/html": [
       "<div>\n",
       "<style scoped>\n",
       "    .dataframe tbody tr th:only-of-type {\n",
       "        vertical-align: middle;\n",
       "    }\n",
       "\n",
       "    .dataframe tbody tr th {\n",
       "        vertical-align: top;\n",
       "    }\n",
       "\n",
       "    .dataframe thead th {\n",
       "        text-align: right;\n",
       "    }\n",
       "</style>\n",
       "<table border=\"1\" class=\"dataframe\">\n",
       "  <thead>\n",
       "    <tr style=\"text-align: right;\">\n",
       "      <th></th>\n",
       "      <th>ID</th>\n",
       "      <th>전화해지여부</th>\n",
       "    </tr>\n",
       "  </thead>\n",
       "  <tbody>\n",
       "    <tr>\n",
       "      <th>0</th>\n",
       "      <td>TEST_00000</td>\n",
       "      <td>1</td>\n",
       "    </tr>\n",
       "    <tr>\n",
       "      <th>1</th>\n",
       "      <td>TEST_00001</td>\n",
       "      <td>1</td>\n",
       "    </tr>\n",
       "  </tbody>\n",
       "</table>\n",
       "</div>"
      ],
      "text/plain": [
       "           ID  전화해지여부\n",
       "0  TEST_00000       1\n",
       "1  TEST_00001       1"
      ]
     },
     "execution_count": 85,
     "metadata": {},
     "output_type": "execute_result"
    }
   ],
   "source": [
    "# submit\n",
    "sample_submission = pd.read_csv('./sample_submission.csv')\n",
    "sample_submission[\"전화해지여부\"] = pred_qda\n",
    "sample_submission.head(2)"
   ]
  },
  {
   "cell_type": "code",
   "execution_count": 86,
   "id": "c13e403c",
   "metadata": {},
   "outputs": [],
   "source": [
    "# 캐글에 제출\n",
    "file_name = f'./under_qda_{qda_scores:.5f}.csv'\n",
    "sample_submission.to_csv(file_name,index = False)"
   ]
  },
  {
   "attachments": {},
   "cell_type": "markdown",
   "id": "7ab7ca0b",
   "metadata": {},
   "source": [
    "3. Logistic Regression"
   ]
  },
  {
   "cell_type": "code",
   "execution_count": 87,
   "id": "ca62026e",
   "metadata": {},
   "outputs": [],
   "source": [
    "from sklearn.linear_model import LogisticRegression\n",
    "Logistic_model = LogisticRegression()"
   ]
  },
  {
   "cell_type": "code",
   "execution_count": 88,
   "id": "62b1b28f",
   "metadata": {},
   "outputs": [
    {
     "data": {
      "text/plain": [
       "0.6033691374769441"
      ]
     },
     "execution_count": 88,
     "metadata": {},
     "output_type": "execute_result"
    }
   ],
   "source": [
    "from sklearn.model_selection import cross_val_score\n",
    "\n",
    "Logistic_scores = cross_val_score(Logistic_model, X_resampled, y_resampled, scoring='f1', cv=10)\n",
    "Logistic_scores = Logistic_scores.mean()\n",
    "Logistic_scores"
   ]
  },
  {
   "cell_type": "code",
   "execution_count": 89,
   "id": "0d094e05",
   "metadata": {},
   "outputs": [],
   "source": [
    "Logistic_model.fit(X_resampled,y_resampled)\n",
    "pred_Logistic=Logistic_model.predict(test)"
   ]
  },
  {
   "cell_type": "code",
   "execution_count": 90,
   "id": "7e220a8e",
   "metadata": {},
   "outputs": [
    {
     "data": {
      "text/html": [
       "<div>\n",
       "<style scoped>\n",
       "    .dataframe tbody tr th:only-of-type {\n",
       "        vertical-align: middle;\n",
       "    }\n",
       "\n",
       "    .dataframe tbody tr th {\n",
       "        vertical-align: top;\n",
       "    }\n",
       "\n",
       "    .dataframe thead th {\n",
       "        text-align: right;\n",
       "    }\n",
       "</style>\n",
       "<table border=\"1\" class=\"dataframe\">\n",
       "  <thead>\n",
       "    <tr style=\"text-align: right;\">\n",
       "      <th></th>\n",
       "      <th>ID</th>\n",
       "      <th>전화해지여부</th>\n",
       "    </tr>\n",
       "  </thead>\n",
       "  <tbody>\n",
       "    <tr>\n",
       "      <th>0</th>\n",
       "      <td>TEST_00000</td>\n",
       "      <td>0</td>\n",
       "    </tr>\n",
       "    <tr>\n",
       "      <th>1</th>\n",
       "      <td>TEST_00001</td>\n",
       "      <td>1</td>\n",
       "    </tr>\n",
       "  </tbody>\n",
       "</table>\n",
       "</div>"
      ],
      "text/plain": [
       "           ID  전화해지여부\n",
       "0  TEST_00000       0\n",
       "1  TEST_00001       1"
      ]
     },
     "execution_count": 90,
     "metadata": {},
     "output_type": "execute_result"
    }
   ],
   "source": [
    "# submit\n",
    "sample_submission = pd.read_csv('./sample_submission.csv')\n",
    "sample_submission[\"전화해지여부\"] = pred_Logistic\n",
    "sample_submission.head(2)"
   ]
  },
  {
   "cell_type": "code",
   "execution_count": 91,
   "id": "56e37893",
   "metadata": {},
   "outputs": [],
   "source": [
    "# 캐글에 제출\n",
    "file_name = f'./under_Logistic_{Logistic_scores:.5f}.csv'\n",
    "sample_submission.to_csv(file_name,index = False)"
   ]
  },
  {
   "attachments": {},
   "cell_type": "markdown",
   "id": "a2a6db35",
   "metadata": {},
   "source": [
    "4. AutoGluon"
   ]
  },
  {
   "cell_type": "code",
   "execution_count": 63,
   "id": "18e5e5ca",
   "metadata": {},
   "outputs": [
    {
     "name": "stdout",
     "output_type": "stream",
     "text": [
      "Collecting autogluon\n",
      "  Using cached autogluon-0.7.0-py3-none-any.whl (9.7 kB)\n",
      "Collecting autogluon.multimodal==0.7.0\n",
      "  Using cached autogluon.multimodal-0.7.0-py3-none-any.whl (331 kB)\n",
      "Collecting autogluon.core[all]==0.7.0\n",
      "  Using cached autogluon.core-0.7.0-py3-none-any.whl (218 kB)\n",
      "Collecting autogluon.tabular[all]==0.7.0\n",
      "  Using cached autogluon.tabular-0.7.0-py3-none-any.whl (292 kB)\n",
      "Collecting autogluon.features==0.7.0\n",
      "  Using cached autogluon.features-0.7.0-py3-none-any.whl (60 kB)\n",
      "Collecting autogluon.timeseries[all]==0.7.0\n",
      "  Using cached autogluon.timeseries-0.7.0-py3-none-any.whl (108 kB)\n",
      "Requirement already satisfied: scipy<1.12,>=1.5.4 in c:\\users\\pmj03\\anaconda3\\lib\\site-packages (from autogluon.core[all]==0.7.0->autogluon) (1.10.0)\n",
      "Requirement already satisfied: tqdm<5,>=4.38 in c:\\users\\pmj03\\anaconda3\\lib\\site-packages (from autogluon.core[all]==0.7.0->autogluon) (4.64.1)\n",
      "Requirement already satisfied: pandas<1.6,>=1.4.1 in c:\\users\\pmj03\\anaconda3\\lib\\site-packages (from autogluon.core[all]==0.7.0->autogluon) (1.5.3)\n",
      "Requirement already satisfied: requests in c:\\users\\pmj03\\anaconda3\\lib\\site-packages (from autogluon.core[all]==0.7.0->autogluon) (2.28.1)\n",
      "Collecting boto3<2,>=1.10\n",
      "  Downloading boto3-1.26.98-py3-none-any.whl (135 kB)\n",
      "     -------------------------------------- 135.5/135.5 kB 7.8 MB/s eta 0:00:00\n",
      "Collecting autogluon.common==0.7.0\n",
      "  Using cached autogluon.common-0.7.0-py3-none-any.whl (45 kB)\n",
      "Requirement already satisfied: matplotlib in c:\\users\\pmj03\\anaconda3\\lib\\site-packages (from autogluon.core[all]==0.7.0->autogluon) (3.7.0)\n",
      "Requirement already satisfied: networkx<3.0,>=2.3 in c:\\users\\pmj03\\anaconda3\\lib\\site-packages (from autogluon.core[all]==0.7.0->autogluon) (2.8.4)\n",
      "Requirement already satisfied: scikit-learn<1.3,>=1.0 in c:\\users\\pmj03\\anaconda3\\lib\\site-packages (from autogluon.core[all]==0.7.0->autogluon) (1.2.1)\n",
      "Requirement already satisfied: numpy<1.27,>=1.21 in c:\\users\\pmj03\\anaconda3\\lib\\site-packages (from autogluon.core[all]==0.7.0->autogluon) (1.23.5)\n",
      "Collecting hyperopt<0.2.8,>=0.2.7\n",
      "  Using cached hyperopt-0.2.7-py2.py3-none-any.whl (1.6 MB)\n",
      "Collecting ray[tune]<2.3,>=2.2\n",
      "  Downloading ray-2.2.0-cp310-cp310-win_amd64.whl (20.8 MB)\n",
      "     --------------------------------------- 20.8/20.8 MB 11.1 MB/s eta 0:00:00\n",
      "Collecting sentencepiece<0.2.0,>=0.1.95\n",
      "  Downloading sentencepiece-0.1.97-cp310-cp310-win_amd64.whl (1.1 MB)\n",
      "     ---------------------------------------- 1.1/1.1 MB 10.3 MB/s eta 0:00:00\n",
      "Collecting pytorch-lightning<1.10.0,>=1.9.0\n",
      "  Using cached pytorch_lightning-1.9.4-py3-none-any.whl (827 kB)\n",
      "Requirement already satisfied: jinja2<3.2,>=3.0.3 in c:\\users\\pmj03\\anaconda3\\lib\\site-packages (from autogluon.multimodal==0.7.0->autogluon) (3.1.2)\n",
      "Requirement already satisfied: torch<1.14,>=1.9 in c:\\users\\pmj03\\anaconda3\\lib\\site-packages (from autogluon.multimodal==0.7.0->autogluon) (1.12.1)\n",
      "Collecting torchmetrics<0.9.0,>=0.8.0\n",
      "  Using cached torchmetrics-0.8.2-py3-none-any.whl (409 kB)\n",
      "Requirement already satisfied: nltk<4.0.0,>=3.4.5 in c:\\users\\pmj03\\anaconda3\\lib\\site-packages (from autogluon.multimodal==0.7.0->autogluon) (3.7)\n",
      "Collecting nlpaug<1.2.0,>=1.1.10\n",
      "  Using cached nlpaug-1.1.11-py3-none-any.whl (410 kB)\n",
      "Requirement already satisfied: defusedxml<0.7.2,>=0.7.1 in c:\\users\\pmj03\\anaconda3\\lib\\site-packages (from autogluon.multimodal==0.7.0->autogluon) (0.7.1)\n",
      "Collecting nptyping<2.5.0,>=1.4.4\n",
      "  Using cached nptyping-2.4.1-py3-none-any.whl (36 kB)\n",
      "Collecting fairscale<0.4.14,>=0.4.5\n",
      "  Using cached fairscale-0.4.13.tar.gz (266 kB)\n",
      "  Installing build dependencies: started\n",
      "  Installing build dependencies: finished with status 'done'\n",
      "  Getting requirements to build wheel: started\n",
      "  Getting requirements to build wheel: finished with status 'done'\n",
      "  Installing backend dependencies: started\n",
      "  Installing backend dependencies: finished with status 'done'\n",
      "  Preparing metadata (pyproject.toml): started\n",
      "  Preparing metadata (pyproject.toml): finished with status 'done'\n",
      "Collecting tensorboard<3,>=2.9\n",
      "  Using cached tensorboard-2.12.0-py3-none-any.whl (5.6 MB)\n",
      "Collecting accelerate<0.17,>=0.9\n",
      "  Using cached accelerate-0.16.0-py3-none-any.whl (199 kB)\n",
      "Requirement already satisfied: scikit-image<0.20.0,>=0.19.1 in c:\\users\\pmj03\\anaconda3\\lib\\site-packages (from autogluon.multimodal==0.7.0->autogluon) (0.19.3)\n",
      "Requirement already satisfied: Pillow<9.6,>=9.3 in c:\\users\\pmj03\\anaconda3\\lib\\site-packages (from autogluon.multimodal==0.7.0->autogluon) (9.4.0)\n",
      "Requirement already satisfied: text-unidecode<1.4,>=1.3 in c:\\users\\pmj03\\anaconda3\\lib\\site-packages (from autogluon.multimodal==0.7.0->autogluon) (1.3)\n",
      "Collecting evaluate<0.4.0,>=0.2.2\n",
      "  Using cached evaluate-0.3.0-py3-none-any.whl (72 kB)\n",
      "Requirement already satisfied: jsonschema<4.18,>=4.14 in c:\\users\\pmj03\\anaconda3\\lib\\site-packages (from autogluon.multimodal==0.7.0->autogluon) (4.17.3)\n",
      "Requirement already satisfied: transformers<4.27.0,>=4.23.0 in c:\\users\\pmj03\\anaconda3\\lib\\site-packages (from autogluon.multimodal==0.7.0->autogluon) (4.24.0)\n",
      "Collecting openmim<0.4.0,>0.1.5\n",
      "  Using cached openmim-0.3.7-py2.py3-none-any.whl (51 kB)\n",
      "Collecting timm<0.7.0,>=0.6.12\n",
      "  Downloading timm-0.6.13-py3-none-any.whl (549 kB)\n",
      "     ------------------------------------- 549.1/549.1 kB 11.7 MB/s eta 0:00:00\n",
      "Collecting pytesseract<0.3.11,>=0.3.9\n",
      "  Using cached pytesseract-0.3.10-py3-none-any.whl (14 kB)\n",
      "Collecting pytorch-metric-learning<2.0,>=1.3.0\n",
      "  Using cached pytorch_metric_learning-1.7.3-py3-none-any.whl (112 kB)\n",
      "Collecting seqeval<1.3.0,>=1.2.2\n",
      "  Using cached seqeval-1.2.2.tar.gz (43 kB)\n",
      "  Preparing metadata (setup.py): started\n",
      "  Preparing metadata (setup.py): finished with status 'done'\n",
      "Collecting torchvision<0.15.0\n",
      "  Downloading torchvision-0.14.1-cp310-cp310-win_amd64.whl (1.1 MB)\n",
      "     ---------------------------------------- 1.1/1.1 MB 11.6 MB/s eta 0:00:00\n",
      "Collecting omegaconf<2.3.0,>=2.1.1\n",
      "  Using cached omegaconf-2.2.3-py3-none-any.whl (79 kB)\n",
      "Collecting fastai<2.8,>=2.3.1\n",
      "  Using cached fastai-2.7.11-py3-none-any.whl (232 kB)\n",
      "Collecting lightgbm<3.4,>=3.3\n",
      "  Using cached lightgbm-3.3.5-py3-none-win_amd64.whl (1.0 MB)\n",
      "Collecting xgboost<1.8,>=1.6\n",
      "  Using cached xgboost-1.7.4-py3-none-win_amd64.whl (89.1 MB)\n",
      "Collecting catboost<1.2,>=1.0\n",
      "  Downloading catboost-1.1.1-cp310-none-win_amd64.whl (73.9 MB)\n",
      "     ---------------------------------------- 73.9/73.9 MB 9.9 MB/s eta 0:00:00\n",
      "Requirement already satisfied: statsmodels<0.14,>=0.13.0 in c:\\users\\pmj03\\anaconda3\\lib\\site-packages (from autogluon.timeseries[all]==0.7.0->autogluon) (0.13.5)\n",
      "Collecting statsforecast<1.5,>=1.4.0\n",
      "  Using cached statsforecast-1.4.0-py3-none-any.whl (91 kB)\n",
      "Collecting gluonts<0.13,>=0.12.0\n",
      "  Using cached gluonts-0.12.5-py3-none-any.whl (1.2 MB)\n",
      "Requirement already satisfied: ujson<6,>=5 in c:\\users\\pmj03\\anaconda3\\lib\\site-packages (from autogluon.timeseries[all]==0.7.0->autogluon) (5.4.0)\n",
      "Requirement already satisfied: joblib<2,>=1.1 in c:\\users\\pmj03\\anaconda3\\lib\\site-packages (from autogluon.timeseries[all]==0.7.0->autogluon) (1.1.1)\n",
      "Collecting pmdarima<1.9,>=1.8.2\n",
      "  Downloading pmdarima-1.8.5-cp310-cp310-win_amd64.whl (603 kB)\n",
      "     -------------------------------------- 603.1/603.1 kB 9.6 MB/s eta 0:00:00\n",
      "Collecting sktime<0.16,>=0.14\n",
      "  Using cached sktime-0.15.1-py3-none-any.whl (16.0 MB)\n",
      "Collecting tbats<2,>=1.1\n",
      "  Using cached tbats-1.1.2-py3-none-any.whl (43 kB)\n",
      "Requirement already satisfied: setuptools in c:\\users\\pmj03\\anaconda3\\lib\\site-packages (from autogluon.common==0.7.0->autogluon.core[all]==0.7.0->autogluon) (65.6.3)\n",
      "Requirement already satisfied: psutil<6,>=5.7.3 in c:\\users\\pmj03\\appdata\\roaming\\python\\python310\\site-packages (from autogluon.common==0.7.0->autogluon.core[all]==0.7.0->autogluon) (5.9.2)\n",
      "Requirement already satisfied: packaging>=20.0 in c:\\users\\pmj03\\anaconda3\\lib\\site-packages (from accelerate<0.17,>=0.9->autogluon.multimodal==0.7.0->autogluon) (22.0)\n",
      "Requirement already satisfied: pyyaml in c:\\users\\pmj03\\anaconda3\\lib\\site-packages (from accelerate<0.17,>=0.9->autogluon.multimodal==0.7.0->autogluon) (6.0)\n",
      "Requirement already satisfied: jmespath<2.0.0,>=0.7.1 in c:\\users\\pmj03\\anaconda3\\lib\\site-packages (from boto3<2,>=1.10->autogluon.core[all]==0.7.0->autogluon) (0.10.0)\n",
      "Collecting botocore<1.30.0,>=1.29.98\n",
      "  Downloading botocore-1.29.98-py3-none-any.whl (10.5 MB)\n",
      "     --------------------------------------- 10.5/10.5 MB 11.1 MB/s eta 0:00:00\n",
      "Collecting s3transfer<0.7.0,>=0.6.0\n",
      "  Downloading s3transfer-0.6.0-py3-none-any.whl (79 kB)\n",
      "     ---------------------------------------- 79.6/79.6 kB 4.3 MB/s eta 0:00:00\n",
      "Collecting graphviz\n",
      "  Using cached graphviz-0.20.1-py3-none-any.whl (47 kB)\n",
      "Requirement already satisfied: six in c:\\users\\pmj03\\anaconda3\\lib\\site-packages (from catboost<1.2,>=1.0->autogluon.tabular[all]==0.7.0->autogluon) (1.16.0)\n",
      "Requirement already satisfied: plotly in c:\\users\\pmj03\\anaconda3\\lib\\site-packages (from catboost<1.2,>=1.0->autogluon.tabular[all]==0.7.0->autogluon) (5.9.0)\n",
      "Collecting responses<0.19\n",
      "  Using cached responses-0.18.0-py3-none-any.whl (38 kB)\n",
      "Collecting xxhash\n",
      "  Downloading xxhash-3.2.0-cp310-cp310-win_amd64.whl (30 kB)\n",
      "Collecting multiprocess\n",
      "  Downloading multiprocess-0.70.14-py310-none-any.whl (134 kB)\n",
      "     -------------------------------------- 134.3/134.3 kB 8.3 MB/s eta 0:00:00\n",
      "Requirement already satisfied: huggingface-hub>=0.7.0 in c:\\users\\pmj03\\anaconda3\\lib\\site-packages (from evaluate<0.4.0,>=0.2.2->autogluon.multimodal==0.7.0->autogluon) (0.10.1)\n",
      "Collecting datasets>=2.0.0\n",
      "  Using cached datasets-2.10.1-py3-none-any.whl (469 kB)\n",
      "Requirement already satisfied: dill in c:\\users\\pmj03\\anaconda3\\lib\\site-packages (from evaluate<0.4.0,>=0.2.2->autogluon.multimodal==0.7.0->autogluon) (0.3.6)\n",
      "Requirement already satisfied: fsspec[http]>=2021.05.0 in c:\\users\\pmj03\\anaconda3\\lib\\site-packages (from evaluate<0.4.0,>=0.2.2->autogluon.multimodal==0.7.0->autogluon) (2022.11.0)\n",
      "Collecting fastprogress>=0.2.4\n",
      "  Using cached fastprogress-1.0.3-py3-none-any.whl (12 kB)\n",
      "Collecting spacy<4\n",
      "  Downloading spacy-3.5.1-cp310-cp310-win_amd64.whl (12.2 MB)\n",
      "     ---------------------------------------- 12.2/12.2 MB 7.1 MB/s eta 0:00:00\n",
      "Requirement already satisfied: pip in c:\\users\\pmj03\\anaconda3\\lib\\site-packages (from fastai<2.8,>=2.3.1->autogluon.tabular[all]==0.7.0->autogluon) (22.3.1)\n",
      "Collecting fastdownload<2,>=0.0.5\n",
      "  Using cached fastdownload-0.0.7-py3-none-any.whl (12 kB)\n",
      "Collecting fastcore<1.6,>=1.4.5\n",
      "  Using cached fastcore-1.5.28-py3-none-any.whl (67 kB)\n",
      "Requirement already satisfied: toolz~=0.10 in c:\\users\\pmj03\\anaconda3\\lib\\site-packages (from gluonts<0.13,>=0.12.0->autogluon.timeseries[all]==0.7.0->autogluon) (0.12.0)\n",
      "Collecting pydantic~=1.7\n",
      "  Downloading pydantic-1.10.7-cp310-cp310-win_amd64.whl (2.1 MB)\n",
      "     ---------------------------------------- 2.1/2.1 MB 7.1 MB/s eta 0:00:00\n",
      "Requirement already satisfied: typing-extensions~=4.0 in c:\\users\\pmj03\\anaconda3\\lib\\site-packages (from gluonts<0.13,>=0.12.0->autogluon.timeseries[all]==0.7.0->autogluon) (4.4.0)\n",
      "Requirement already satisfied: future in c:\\users\\pmj03\\anaconda3\\lib\\site-packages (from hyperopt<0.2.8,>=0.2.7->autogluon.core[all]==0.7.0->autogluon) (0.18.3)\n",
      "Collecting py4j\n",
      "  Using cached py4j-0.10.9.7-py2.py3-none-any.whl (200 kB)\n",
      "Requirement already satisfied: cloudpickle in c:\\users\\pmj03\\anaconda3\\lib\\site-packages (from hyperopt<0.2.8,>=0.2.7->autogluon.core[all]==0.7.0->autogluon) (2.0.0)\n",
      "Requirement already satisfied: MarkupSafe>=2.0 in c:\\users\\pmj03\\anaconda3\\lib\\site-packages (from jinja2<3.2,>=3.0.3->autogluon.multimodal==0.7.0->autogluon) (2.1.1)\n",
      "Requirement already satisfied: attrs>=17.4.0 in c:\\users\\pmj03\\anaconda3\\lib\\site-packages (from jsonschema<4.18,>=4.14->autogluon.multimodal==0.7.0->autogluon) (22.1.0)\n",
      "Requirement already satisfied: pyrsistent!=0.17.0,!=0.17.1,!=0.17.2,>=0.14.0 in c:\\users\\pmj03\\anaconda3\\lib\\site-packages (from jsonschema<4.18,>=4.14->autogluon.multimodal==0.7.0->autogluon) (0.18.0)\n",
      "Requirement already satisfied: wheel in c:\\users\\pmj03\\anaconda3\\lib\\site-packages (from lightgbm<3.4,>=3.3->autogluon.tabular[all]==0.7.0->autogluon) (0.38.4)\n",
      "Collecting gdown>=4.0.0\n",
      "  Downloading gdown-4.6.6-py3-none-any.whl (14 kB)\n",
      "Requirement already satisfied: regex>=2021.8.3 in c:\\users\\pmj03\\anaconda3\\lib\\site-packages (from nltk<4.0.0,>=3.4.5->autogluon.multimodal==0.7.0->autogluon) (2022.7.9)\n",
      "Requirement already satisfied: click in c:\\users\\pmj03\\anaconda3\\lib\\site-packages (from nltk<4.0.0,>=3.4.5->autogluon.multimodal==0.7.0->autogluon) (8.0.4)\n",
      "Collecting antlr4-python3-runtime==4.9.*\n",
      "  Using cached antlr4-python3-runtime-4.9.3.tar.gz (117 kB)\n",
      "  Preparing metadata (setup.py): started\n",
      "  Preparing metadata (setup.py): finished with status 'done'\n",
      "Collecting model-index\n",
      "  Using cached model_index-0.1.11-py3-none-any.whl (34 kB)\n",
      "Requirement already satisfied: colorama in c:\\users\\pmj03\\appdata\\roaming\\python\\python310\\site-packages (from openmim<0.4.0,>0.1.5->autogluon.multimodal==0.7.0->autogluon) (0.4.5)\n",
      "Requirement already satisfied: tabulate in c:\\users\\pmj03\\anaconda3\\lib\\site-packages (from openmim<0.4.0,>0.1.5->autogluon.multimodal==0.7.0->autogluon) (0.8.10)\n",
      "Collecting rich\n",
      "  Using cached rich-13.3.2-py3-none-any.whl (238 kB)\n",
      "Requirement already satisfied: pytz>=2020.1 in c:\\users\\pmj03\\anaconda3\\lib\\site-packages (from pandas<1.6,>=1.4.1->autogluon.core[all]==0.7.0->autogluon) (2022.7)\n",
      "Requirement already satisfied: python-dateutil>=2.8.1 in c:\\users\\pmj03\\anaconda3\\lib\\site-packages (from pandas<1.6,>=1.4.1->autogluon.core[all]==0.7.0->autogluon) (2.8.2)\n",
      "Collecting Cython!=0.29.18,>=0.29\n",
      "  Downloading Cython-0.29.33-py2.py3-none-any.whl (987 kB)\n",
      "     -------------------------------------- 987.3/987.3 kB 8.9 MB/s eta 0:00:00\n",
      "Requirement already satisfied: urllib3 in c:\\users\\pmj03\\anaconda3\\lib\\site-packages (from pmdarima<1.9,>=1.8.2->autogluon.timeseries[all]==0.7.0->autogluon) (1.26.14)\n",
      "Collecting lightning-utilities>=0.6.0.post0\n",
      "  Using cached lightning_utilities-0.8.0-py3-none-any.whl (20 kB)\n",
      "Collecting aiosignal\n",
      "  Using cached aiosignal-1.3.1-py3-none-any.whl (7.6 kB)\n",
      "Collecting protobuf!=3.19.5,>=3.15.3\n",
      "  Downloading protobuf-4.22.1-cp310-abi3-win_amd64.whl (420 kB)\n",
      "     -------------------------------------- 420.6/420.6 kB 8.7 MB/s eta 0:00:00\n",
      "Collecting frozenlist\n",
      "  Downloading frozenlist-1.3.3-cp310-cp310-win_amd64.whl (33 kB)\n",
      "Collecting grpcio>=1.42.0\n",
      "  Downloading grpcio-1.51.3-cp310-cp310-win_amd64.whl (3.7 MB)\n",
      "     ---------------------------------------- 3.7/3.7 MB 10.3 MB/s eta 0:00:00\n",
      "Requirement already satisfied: msgpack<2.0.0,>=1.0.0 in c:\\users\\pmj03\\anaconda3\\lib\\site-packages (from ray[tune]<2.3,>=2.2->autogluon.core[all]==0.7.0->autogluon) (1.0.3)\n",
      "Collecting virtualenv>=20.0.24\n",
      "  Using cached virtualenv-20.21.0-py3-none-any.whl (8.7 MB)\n",
      "Requirement already satisfied: filelock in c:\\users\\pmj03\\anaconda3\\lib\\site-packages (from ray[tune]<2.3,>=2.2->autogluon.core[all]==0.7.0->autogluon) (3.9.0)\n",
      "Collecting tensorboardX>=1.9\n",
      "  Using cached tensorboardX-2.6-py2.py3-none-any.whl (114 kB)\n",
      "Requirement already satisfied: idna<4,>=2.5 in c:\\users\\pmj03\\anaconda3\\lib\\site-packages (from requests->autogluon.core[all]==0.7.0->autogluon) (3.4)\n",
      "Requirement already satisfied: certifi>=2017.4.17 in c:\\users\\pmj03\\anaconda3\\lib\\site-packages (from requests->autogluon.core[all]==0.7.0->autogluon) (2022.12.7)\n",
      "Requirement already satisfied: charset-normalizer<3,>=2 in c:\\users\\pmj03\\anaconda3\\lib\\site-packages (from requests->autogluon.core[all]==0.7.0->autogluon) (2.0.4)\n",
      "Requirement already satisfied: imageio>=2.4.1 in c:\\users\\pmj03\\anaconda3\\lib\\site-packages (from scikit-image<0.20.0,>=0.19.1->autogluon.multimodal==0.7.0->autogluon) (2.26.0)\n",
      "Requirement already satisfied: tifffile>=2019.7.26 in c:\\users\\pmj03\\anaconda3\\lib\\site-packages (from scikit-image<0.20.0,>=0.19.1->autogluon.multimodal==0.7.0->autogluon) (2021.7.2)\n",
      "Requirement already satisfied: PyWavelets>=1.1.1 in c:\\users\\pmj03\\anaconda3\\lib\\site-packages (from scikit-image<0.20.0,>=0.19.1->autogluon.multimodal==0.7.0->autogluon) (1.4.1)\n",
      "Requirement already satisfied: threadpoolctl>=2.0.0 in c:\\users\\pmj03\\anaconda3\\lib\\site-packages (from scikit-learn<1.3,>=1.0->autogluon.core[all]==0.7.0->autogluon) (2.2.0)\n",
      "Requirement already satisfied: numba>=0.55 in c:\\users\\pmj03\\anaconda3\\lib\\site-packages (from sktime<0.16,>=0.14->autogluon.timeseries[all]==0.7.0->autogluon) (0.56.4)\n",
      "Collecting deprecated>=1.2.13\n",
      "  Using cached Deprecated-1.2.13-py2.py3-none-any.whl (9.6 kB)\n",
      "Requirement already satisfied: patsy>=0.5.2 in c:\\users\\pmj03\\anaconda3\\lib\\site-packages (from statsmodels<0.14,>=0.13.0->autogluon.timeseries[all]==0.7.0->autogluon) (0.5.3)\n",
      "Collecting tensorboard-data-server<0.8.0,>=0.7.0\n",
      "  Using cached tensorboard_data_server-0.7.0-py3-none-any.whl (2.4 kB)\n",
      "Collecting absl-py>=0.4\n",
      "  Using cached absl_py-1.4.0-py3-none-any.whl (126 kB)\n",
      "Collecting google-auth<3,>=1.6.3\n",
      "  Downloading google_auth-2.16.3-py2.py3-none-any.whl (177 kB)\n",
      "     -------------------------------------- 177.5/177.5 kB 5.4 MB/s eta 0:00:00\n",
      "Collecting tensorboard-plugin-wit>=1.6.0\n",
      "  Using cached tensorboard_plugin_wit-1.8.1-py3-none-any.whl (781 kB)\n",
      "Requirement already satisfied: werkzeug>=1.0.1 in c:\\users\\pmj03\\anaconda3\\lib\\site-packages (from tensorboard<3,>=2.9->autogluon.multimodal==0.7.0->autogluon) (2.2.2)\n",
      "Collecting google-auth-oauthlib<0.5,>=0.4.1\n",
      "  Using cached google_auth_oauthlib-0.4.6-py2.py3-none-any.whl (18 kB)\n",
      "Requirement already satisfied: markdown>=2.6.8 in c:\\users\\pmj03\\anaconda3\\lib\\site-packages (from tensorboard<3,>=2.9->autogluon.multimodal==0.7.0->autogluon) (3.4.1)\n",
      "Collecting pyDeprecate==0.3.*\n",
      "  Using cached pyDeprecate-0.3.2-py3-none-any.whl (10 kB)\n",
      "Collecting torch<1.14,>=1.9\n",
      "  Downloading torch-1.13.1-cp310-cp310-win_amd64.whl (162.6 MB)\n",
      "     -------------------------------------- 162.6/162.6 MB 8.3 MB/s eta 0:00:00\n",
      "Requirement already satisfied: tokenizers!=0.11.3,<0.14,>=0.11.1 in c:\\users\\pmj03\\anaconda3\\lib\\site-packages (from transformers<4.27.0,>=4.23.0->autogluon.multimodal==0.7.0->autogluon) (0.11.4)\n",
      "Requirement already satisfied: kiwisolver>=1.0.1 in c:\\users\\pmj03\\anaconda3\\lib\\site-packages (from matplotlib->autogluon.core[all]==0.7.0->autogluon) (1.4.4)\n",
      "Requirement already satisfied: fonttools>=4.22.0 in c:\\users\\pmj03\\anaconda3\\lib\\site-packages (from matplotlib->autogluon.core[all]==0.7.0->autogluon) (4.25.0)\n",
      "Requirement already satisfied: cycler>=0.10 in c:\\users\\pmj03\\anaconda3\\lib\\site-packages (from matplotlib->autogluon.core[all]==0.7.0->autogluon) (0.11.0)\n",
      "Requirement already satisfied: contourpy>=1.0.1 in c:\\users\\pmj03\\anaconda3\\lib\\site-packages (from matplotlib->autogluon.core[all]==0.7.0->autogluon) (1.0.5)\n",
      "Requirement already satisfied: pyparsing>=2.3.1 in c:\\users\\pmj03\\anaconda3\\lib\\site-packages (from matplotlib->autogluon.core[all]==0.7.0->autogluon) (3.0.9)\n",
      "Collecting aiohttp\n",
      "  Downloading aiohttp-3.8.4-cp310-cp310-win_amd64.whl (319 kB)\n",
      "     ------------------------------------- 319.8/319.8 kB 10.0 MB/s eta 0:00:00\n",
      "Collecting pyarrow>=6.0.0\n",
      "  Downloading pyarrow-11.0.0-cp310-cp310-win_amd64.whl (20.6 MB)\n",
      "     --------------------------------------- 20.6/20.6 MB 11.1 MB/s eta 0:00:00\n",
      "Requirement already satisfied: wrapt<2,>=1.10 in c:\\users\\pmj03\\anaconda3\\lib\\site-packages (from deprecated>=1.2.13->sktime<0.16,>=0.14->autogluon.timeseries[all]==0.7.0->autogluon) (1.14.1)\n",
      "Requirement already satisfied: beautifulsoup4 in c:\\users\\pmj03\\anaconda3\\lib\\site-packages (from gdown>=4.0.0->nlpaug<1.2.0,>=1.1.10->autogluon.multimodal==0.7.0->autogluon) (4.11.1)\n",
      "Requirement already satisfied: pyasn1-modules>=0.2.1 in c:\\users\\pmj03\\anaconda3\\lib\\site-packages (from google-auth<3,>=1.6.3->tensorboard<3,>=2.9->autogluon.multimodal==0.7.0->autogluon) (0.2.8)\n",
      "Collecting rsa<5,>=3.1.4\n",
      "  Using cached rsa-4.9-py3-none-any.whl (34 kB)\n",
      "Collecting cachetools<6.0,>=2.0.0\n",
      "  Using cached cachetools-5.3.0-py3-none-any.whl (9.3 kB)\n",
      "Collecting requests-oauthlib>=0.7.0\n",
      "  Using cached requests_oauthlib-1.3.1-py2.py3-none-any.whl (23 kB)\n",
      "Requirement already satisfied: llvmlite<0.40,>=0.39.0dev0 in c:\\users\\pmj03\\anaconda3\\lib\\site-packages (from numba>=0.55->sktime<0.16,>=0.14->autogluon.timeseries[all]==0.7.0->autogluon) (0.39.1)\n",
      "Collecting spacy-legacy<3.1.0,>=3.0.11\n",
      "  Using cached spacy_legacy-3.0.12-py2.py3-none-any.whl (29 kB)\n",
      "Collecting thinc<8.2.0,>=8.1.8\n",
      "  Downloading thinc-8.1.9-cp310-cp310-win_amd64.whl (1.5 MB)\n",
      "     ---------------------------------------- 1.5/1.5 MB 10.3 MB/s eta 0:00:00\n",
      "Collecting preshed<3.1.0,>=3.0.2\n",
      "  Downloading preshed-3.0.8-cp310-cp310-win_amd64.whl (94 kB)\n",
      "     ---------------------------------------- 94.7/94.7 kB 5.3 MB/s eta 0:00:00\n",
      "Requirement already satisfied: smart-open<7.0.0,>=5.2.1 in c:\\users\\pmj03\\anaconda3\\lib\\site-packages (from spacy<4->fastai<2.8,>=2.3.1->autogluon.tabular[all]==0.7.0->autogluon) (5.2.1)\n",
      "Collecting wasabi<1.2.0,>=0.9.1\n",
      "  Using cached wasabi-1.1.1-py3-none-any.whl (27 kB)\n",
      "Collecting pathy>=0.10.0\n",
      "  Using cached pathy-0.10.1-py3-none-any.whl (48 kB)\n",
      "Collecting spacy-loggers<2.0.0,>=1.0.0\n",
      "  Using cached spacy_loggers-1.0.4-py3-none-any.whl (11 kB)\n",
      "Collecting murmurhash<1.1.0,>=0.28.0\n",
      "  Downloading murmurhash-1.0.9-cp310-cp310-win_amd64.whl (18 kB)\n",
      "Collecting typer<0.8.0,>=0.3.0\n",
      "  Using cached typer-0.7.0-py3-none-any.whl (38 kB)\n",
      "Collecting langcodes<4.0.0,>=3.2.0\n",
      "  Using cached langcodes-3.3.0-py3-none-any.whl (181 kB)\n",
      "Collecting srsly<3.0.0,>=2.4.3\n",
      "  Downloading srsly-2.4.6-cp310-cp310-win_amd64.whl (480 kB)\n",
      "     ------------------------------------- 480.9/480.9 kB 10.2 MB/s eta 0:00:00\n",
      "Collecting cymem<2.1.0,>=2.0.2\n",
      "  Downloading cymem-2.0.7-cp310-cp310-win_amd64.whl (29 kB)\n",
      "Collecting catalogue<2.1.0,>=2.0.6\n",
      "  Using cached catalogue-2.0.8-py3-none-any.whl (17 kB)\n",
      "Collecting protobuf!=3.19.5,>=3.15.3\n",
      "  Downloading protobuf-3.20.3-cp310-cp310-win_amd64.whl (904 kB)\n",
      "     -------------------------------------- 904.0/904.0 kB 8.2 MB/s eta 0:00:00\n",
      "Requirement already satisfied: platformdirs<4,>=2.4 in c:\\users\\pmj03\\anaconda3\\lib\\site-packages (from virtualenv>=20.0.24->ray[tune]<2.3,>=2.2->autogluon.core[all]==0.7.0->autogluon) (2.5.2)\n",
      "Collecting distlib<1,>=0.3.6\n",
      "  Using cached distlib-0.3.6-py2.py3-none-any.whl (468 kB)\n",
      "Collecting ordered-set\n",
      "  Using cached ordered_set-4.1.0-py3-none-any.whl (7.6 kB)\n",
      "Requirement already satisfied: tenacity>=6.2.0 in c:\\users\\pmj03\\anaconda3\\lib\\site-packages (from plotly->catboost<1.2,>=1.0->autogluon.tabular[all]==0.7.0->autogluon) (8.0.1)\n",
      "Collecting markdown-it-py<3.0.0,>=2.2.0\n",
      "  Using cached markdown_it_py-2.2.0-py3-none-any.whl (84 kB)\n",
      "Requirement already satisfied: pygments<3.0.0,>=2.13.0 in c:\\users\\pmj03\\appdata\\roaming\\python\\python310\\site-packages (from rich->openmim<0.4.0,>0.1.5->autogluon.multimodal==0.7.0->autogluon) (2.13.0)\n",
      "Collecting yarl<2.0,>=1.0\n",
      "  Downloading yarl-1.8.2-cp310-cp310-win_amd64.whl (56 kB)\n",
      "     ---------------------------------------- 56.1/56.1 kB 2.9 MB/s eta 0:00:00\n",
      "Collecting multidict<7.0,>=4.5\n",
      "  Downloading multidict-6.0.4-cp310-cp310-win_amd64.whl (28 kB)\n",
      "Collecting async-timeout<5.0,>=4.0.0a3\n",
      "  Using cached async_timeout-4.0.2-py3-none-any.whl (5.8 kB)\n",
      "Collecting mdurl~=0.1\n",
      "  Using cached mdurl-0.1.2-py3-none-any.whl (10.0 kB)\n",
      "Requirement already satisfied: pyasn1<0.5.0,>=0.4.6 in c:\\users\\pmj03\\anaconda3\\lib\\site-packages (from pyasn1-modules>=0.2.1->google-auth<3,>=1.6.3->tensorboard<3,>=2.9->autogluon.multimodal==0.7.0->autogluon) (0.4.8)\n",
      "Collecting oauthlib>=3.0.0\n",
      "  Using cached oauthlib-3.2.2-py3-none-any.whl (151 kB)\n",
      "Collecting blis<0.8.0,>=0.7.8\n",
      "  Downloading blis-0.7.9-cp310-cp310-win_amd64.whl (7.0 MB)\n",
      "     ---------------------------------------- 7.0/7.0 MB 11.2 MB/s eta 0:00:00\n",
      "Collecting confection<1.0.0,>=0.0.1\n",
      "  Using cached confection-0.0.4-py3-none-any.whl (32 kB)\n",
      "Collecting colorama\n",
      "  Using cached colorama-0.4.6-py2.py3-none-any.whl (25 kB)\n",
      "Requirement already satisfied: soupsieve>1.2 in c:\\users\\pmj03\\anaconda3\\lib\\site-packages (from beautifulsoup4->gdown>=4.0.0->nlpaug<1.2.0,>=1.1.10->autogluon.multimodal==0.7.0->autogluon) (2.3.2.post1)\n",
      "Requirement already satisfied: PySocks!=1.5.7,>=1.5.6 in c:\\users\\pmj03\\anaconda3\\lib\\site-packages (from requests->autogluon.core[all]==0.7.0->autogluon) (1.7.1)\n",
      "Building wheels for collected packages: fairscale, antlr4-python3-runtime, seqeval\n",
      "  Building wheel for fairscale (pyproject.toml): started\n",
      "  Building wheel for fairscale (pyproject.toml): finished with status 'done'\n",
      "  Created wheel for fairscale: filename=fairscale-0.4.13-py3-none-any.whl size=332123 sha256=5ad151883f7b1467ccab72e9551fdcbc2887fb4f3c11496c8aa53692ee191a50\n",
      "  Stored in directory: c:\\users\\pmj03\\appdata\\local\\pip\\cache\\wheels\\bb\\c3\\a9\\ab8ce0527643b9fb184bcda117425cbd7a582e86fe50a5f95f\n",
      "  Building wheel for antlr4-python3-runtime (setup.py): started\n",
      "  Building wheel for antlr4-python3-runtime (setup.py): finished with status 'done'\n",
      "  Created wheel for antlr4-python3-runtime: filename=antlr4_python3_runtime-4.9.3-py3-none-any.whl size=144578 sha256=aeb92ce8fa5752e0e06db961c73ec2e7ea03990b86094e47770bf78bf0a6fa4d\n",
      "  Stored in directory: c:\\users\\pmj03\\appdata\\local\\pip\\cache\\wheels\\48\\6a\\c2\\acb58c7afdf57e4cddf5e1513f5a2d62aa8e98f82a00c76d7c\n",
      "  Building wheel for seqeval (setup.py): started\n",
      "  Building wheel for seqeval (setup.py): finished with status 'done'\n",
      "  Created wheel for seqeval: filename=seqeval-1.2.2-py3-none-any.whl size=16189 sha256=519ff44d50e1aec0686a07b92aa3977f20d10310d500a6d11f57ba32fc7fdd2f\n",
      "  Stored in directory: c:\\users\\pmj03\\appdata\\local\\pip\\cache\\wheels\\ba\\ef\\95\\d29a28e6aefb85dae6cd361a97add9c6a3e3d00687b954d7a4\n",
      "Successfully built fairscale antlr4-python3-runtime seqeval\n",
      "Installing collected packages: tensorboard-plugin-wit, sentencepiece, py4j, distlib, cymem, antlr4-python3-runtime, xxhash, virtualenv, torch, tensorboard-data-server, spacy-loggers, spacy-legacy, rsa, pytesseract, pyDeprecate, pydantic, pyarrow, protobuf, ordered-set, omegaconf, oauthlib, nptyping, murmurhash, multiprocess, multidict, mdurl, lightning-utilities, langcodes, grpcio, graphviz, frozenlist, fastprogress, fastcore, deprecated, Cython, colorama, catalogue, cachetools, blis, async-timeout, absl-py, yarl, xgboost, wasabi, torchvision, torchmetrics, tensorboardX, srsly, responses, requests-oauthlib, preshed, markdown-it-py, google-auth, fastdownload, fairscale, botocore, aiosignal, accelerate, typer, seqeval, s3transfer, rich, ray, pytorch-metric-learning, model-index, lightgbm, hyperopt, google-auth-oauthlib, gluonts, gdown, confection, catboost, aiohttp, timm, thinc, tensorboard, statsforecast, sktime, pmdarima, pathy, openmim, nlpaug, boto3, tbats, spacy, pytorch-lightning, datasets, autogluon.common, fastai, evaluate, autogluon.features, autogluon.core, autogluon.tabular, autogluon.multimodal, autogluon.timeseries, autogluon\n",
      "  Attempting uninstall: torch\n",
      "    Found existing installation: torch 1.12.1\n",
      "    Uninstalling torch-1.12.1:\n",
      "      Successfully uninstalled torch-1.12.1\n",
      "  Attempting uninstall: colorama\n",
      "    Found existing installation: colorama 0.4.5\n",
      "    Uninstalling colorama-0.4.5:\n",
      "      Successfully uninstalled colorama-0.4.5\n",
      "Successfully installed Cython-0.29.33 absl-py-1.4.0 accelerate-0.16.0 aiohttp-3.8.4 aiosignal-1.3.1 antlr4-python3-runtime-4.9.3 async-timeout-4.0.2 autogluon-0.7.0 autogluon.common-0.7.0 autogluon.core-0.7.0 autogluon.features-0.7.0 autogluon.multimodal-0.7.0 autogluon.tabular-0.7.0 autogluon.timeseries-0.7.0 blis-0.7.9 boto3-1.26.98 botocore-1.29.98 cachetools-5.3.0 catalogue-2.0.8 catboost-1.1.1 colorama-0.4.6 confection-0.0.4 cymem-2.0.7 datasets-2.10.1 deprecated-1.2.13 distlib-0.3.6 evaluate-0.3.0 fairscale-0.4.13 fastai-2.7.11 fastcore-1.5.28 fastdownload-0.0.7 fastprogress-1.0.3 frozenlist-1.3.3 gdown-4.6.6 gluonts-0.12.5 google-auth-2.16.3 google-auth-oauthlib-0.4.6 graphviz-0.20.1 grpcio-1.51.3 hyperopt-0.2.7 langcodes-3.3.0 lightgbm-3.3.5 lightning-utilities-0.8.0 markdown-it-py-2.2.0 mdurl-0.1.2 model-index-0.1.11 multidict-6.0.4 multiprocess-0.70.14 murmurhash-1.0.9 nlpaug-1.1.11 nptyping-2.4.1 oauthlib-3.2.2 omegaconf-2.2.3 openmim-0.3.7 ordered-set-4.1.0 pathy-0.10.1 pmdarima-1.8.5 preshed-3.0.8 protobuf-3.20.3 py4j-0.10.9.7 pyDeprecate-0.3.2 pyarrow-11.0.0 pydantic-1.10.7 pytesseract-0.3.10 pytorch-lightning-1.9.4 pytorch-metric-learning-1.7.3 ray-2.2.0 requests-oauthlib-1.3.1 responses-0.18.0 rich-13.3.2 rsa-4.9 s3transfer-0.6.0 sentencepiece-0.1.97 seqeval-1.2.2 sktime-0.15.1 spacy-3.5.1 spacy-legacy-3.0.12 spacy-loggers-1.0.4 srsly-2.4.6 statsforecast-1.4.0 tbats-1.1.2 tensorboard-2.12.0 tensorboard-data-server-0.7.0 tensorboard-plugin-wit-1.8.1 tensorboardX-2.6 thinc-8.1.9 timm-0.6.13 torch-1.13.1 torchmetrics-0.8.2 torchvision-0.14.1 typer-0.7.0 virtualenv-20.21.0 wasabi-1.1.1 xgboost-1.7.4 xxhash-3.2.0 yarl-1.8.2\n"
     ]
    },
    {
     "name": "stderr",
     "output_type": "stream",
     "text": [
      "ERROR: pip's dependency resolver does not currently take into account all the packages that are installed. This behaviour is the source of the following dependency conflicts.\n",
      "spyder-kernels 2.4.1 requires ipykernel<7,>=6.16.1; python_version >= \"3\", but you have ipykernel 6.15.3 which is incompatible.\n",
      "jupyter-console 6.6.2 requires jupyter-core!=5.0.*,>=4.12, but you have jupyter-core 4.11.1 which is incompatible.\n"
     ]
    }
   ],
   "source": [
    "!pip install autogluon"
   ]
  },
  {
   "cell_type": "code",
   "execution_count": 92,
   "id": "ad307b58",
   "metadata": {},
   "outputs": [],
   "source": [
    "from autogluon.tabular import TabularDataset, TabularPredictor"
   ]
  },
  {
   "cell_type": "code",
   "execution_count": 93,
   "id": "dd5415f1",
   "metadata": {},
   "outputs": [],
   "source": [
    "re_df_y = pd.DataFrame(y_resampled)"
   ]
  },
  {
   "cell_type": "code",
   "execution_count": 94,
   "id": "a0dd2be9",
   "metadata": {},
   "outputs": [],
   "source": [
    "re_df_X = pd.DataFrame(X_resampled)"
   ]
  },
  {
   "cell_type": "code",
   "execution_count": 95,
   "id": "641f6661",
   "metadata": {},
   "outputs": [
    {
     "data": {
      "text/html": [
       "<div>\n",
       "<style scoped>\n",
       "    .dataframe tbody tr th:only-of-type {\n",
       "        vertical-align: middle;\n",
       "    }\n",
       "\n",
       "    .dataframe tbody tr th {\n",
       "        vertical-align: top;\n",
       "    }\n",
       "\n",
       "    .dataframe thead th {\n",
       "        text-align: right;\n",
       "    }\n",
       "</style>\n",
       "<table border=\"1\" class=\"dataframe\">\n",
       "  <thead>\n",
       "    <tr style=\"text-align: right;\">\n",
       "      <th></th>\n",
       "      <th>0</th>\n",
       "      <th>1</th>\n",
       "      <th>2</th>\n",
       "      <th>3</th>\n",
       "      <th>4</th>\n",
       "      <th>5</th>\n",
       "      <th>전화해지여부</th>\n",
       "    </tr>\n",
       "  </thead>\n",
       "  <tbody>\n",
       "    <tr>\n",
       "      <th>0</th>\n",
       "      <td>-0.670190</td>\n",
       "      <td>0.714163</td>\n",
       "      <td>-1.115749</td>\n",
       "      <td>-0.454872</td>\n",
       "      <td>1.100818</td>\n",
       "      <td>0.617358</td>\n",
       "      <td>0</td>\n",
       "    </tr>\n",
       "    <tr>\n",
       "      <th>1</th>\n",
       "      <td>-0.426269</td>\n",
       "      <td>-0.487118</td>\n",
       "      <td>-0.140478</td>\n",
       "      <td>-0.755693</td>\n",
       "      <td>-1.261585</td>\n",
       "      <td>-0.902030</td>\n",
       "      <td>0</td>\n",
       "    </tr>\n",
       "  </tbody>\n",
       "</table>\n",
       "</div>"
      ],
      "text/plain": [
       "          0         1         2         3         4         5  전화해지여부\n",
       "0 -0.670190  0.714163 -1.115749 -0.454872  1.100818  0.617358       0\n",
       "1 -0.426269 -0.487118 -0.140478 -0.755693 -1.261585 -0.902030       0"
      ]
     },
     "execution_count": 95,
     "metadata": {},
     "output_type": "execute_result"
    }
   ],
   "source": [
    "re_df = pd.concat([re_df_X,re_df_y],axis=1, ignore_index=True)\n",
    "re_df.rename(columns={6:'전화해지여부'},inplace=True)\n",
    "re_df.head(2)"
   ]
  },
  {
   "cell_type": "code",
   "execution_count": 96,
   "id": "6e589b12",
   "metadata": {},
   "outputs": [
    {
     "name": "stderr",
     "output_type": "stream",
     "text": [
      "No path specified. Models will be saved in: \"AutogluonModels\\ag-20230326_074807\\\"\n",
      "Beginning AutoGluon training ...\n",
      "AutoGluon will save models to \"AutogluonModels\\ag-20230326_074807\\\"\n",
      "AutoGluon Version:  0.7.0\n",
      "Python Version:     3.10.9\n",
      "Operating System:   Windows\n",
      "Platform Machine:   AMD64\n",
      "Platform Version:   10.0.22000\n",
      "Train Data Rows:    6636\n",
      "Train Data Columns: 6\n",
      "Label Column: 전화해지여부\n",
      "Preprocessing data ...\n",
      "AutoGluon infers your prediction problem is: 'binary' (because only two unique label-values observed).\n",
      "\t2 unique label values:  [0, 1]\n",
      "\tIf 'binary' is not the correct problem_type, please manually specify the problem_type parameter during predictor init (You may specify problem_type as one of: ['binary', 'multiclass', 'regression'])\n",
      "Selected class <--> label mapping:  class 1 = 1, class 0 = 0\n",
      "Using Feature Generators to preprocess the data ...\n",
      "Fitting AutoMLPipelineFeatureGenerator...\n",
      "\tAvailable Memory:                    1627.24 MB\n",
      "\tTrain Data (Original)  Memory Usage: 0.32 MB (0.0% of available memory)\n",
      "\tInferring data type of each feature based on column values. Set feature_metadata_in to manually specify special dtypes of the features.\n",
      "\tStage 1 Generators:\n",
      "\t\tFitting AsTypeFeatureGenerator...\n",
      "\tStage 2 Generators:\n",
      "\t\tFitting FillNaFeatureGenerator...\n",
      "\tStage 3 Generators:\n",
      "\t\tFitting IdentityFeatureGenerator...\n",
      "\tStage 4 Generators:\n",
      "\t\tFitting DropUniqueFeatureGenerator...\n",
      "\tTypes of features in original data (raw dtype, special dtypes):\n",
      "\t\t('float', []) : 6 | ['0', '1', '2', '3', '4', ...]\n",
      "\tTypes of features in processed data (raw dtype, special dtypes):\n",
      "\t\t('float', []) : 6 | ['0', '1', '2', '3', '4', ...]\n",
      "\t0.0s = Fit runtime\n",
      "\t6 features in original data used to generate 6 features in processed data.\n",
      "\tTrain Data (Processed) Memory Usage: 0.32 MB (0.0% of available memory)\n",
      "Data preprocessing and feature engineering runtime = 0.05s ...\n",
      "AutoGluon will gauge predictive performance using evaluation metric: 'f1_macro'\n",
      "\tTo change this, specify the eval_metric parameter of Predictor()\n",
      "Automatically generating train/validation split with holdout_frac=0.1, Train Rows: 5972, Val Rows: 664\n",
      "Fitting 13 L1 models ...\n",
      "Fitting model: KNeighborsUnif ...\n",
      "\t0.6285\t = Validation score   (f1_macro)\n",
      "\t2.4s\t = Training   runtime\n",
      "\t0.01s\t = Validation runtime\n",
      "Fitting model: KNeighborsDist ...\n",
      "\t0.6932\t = Validation score   (f1_macro)\n",
      "\t0.01s\t = Training   runtime\n",
      "\t0.01s\t = Validation runtime\n",
      "Fitting model: LightGBMXT ...\n",
      "\t0.6901\t = Validation score   (f1_macro)\n",
      "\t2.55s\t = Training   runtime\n",
      "\t0.01s\t = Validation runtime\n",
      "Fitting model: LightGBM ...\n",
      "\t0.7314\t = Validation score   (f1_macro)\n",
      "\t1.59s\t = Training   runtime\n",
      "\t0.01s\t = Validation runtime\n",
      "Fitting model: RandomForestGini ...\n",
      "\t0.7451\t = Validation score   (f1_macro)\n",
      "\t0.85s\t = Training   runtime\n",
      "\t0.04s\t = Validation runtime\n",
      "Fitting model: RandomForestEntr ...\n",
      "\t0.7434\t = Validation score   (f1_macro)\n",
      "\t1.18s\t = Training   runtime\n",
      "\t0.05s\t = Validation runtime\n",
      "Fitting model: CatBoost ...\n",
      "\t0.7296\t = Validation score   (f1_macro)\n",
      "\t8.21s\t = Training   runtime\n",
      "\t0.0s\t = Validation runtime\n",
      "Fitting model: ExtraTreesGini ...\n",
      "\t0.7375\t = Validation score   (f1_macro)\n",
      "\t0.61s\t = Training   runtime\n",
      "\t0.05s\t = Validation runtime\n",
      "Fitting model: ExtraTreesEntr ...\n",
      "\t0.7222\t = Validation score   (f1_macro)\n",
      "\t0.75s\t = Training   runtime\n",
      "\t0.05s\t = Validation runtime\n",
      "Fitting model: NeuralNetFastAI ...\n",
      "\t0.6353\t = Validation score   (f1_macro)\n",
      "\t7.68s\t = Training   runtime\n",
      "\t0.02s\t = Validation runtime\n",
      "Fitting model: XGBoost ...\n",
      "\t0.7363\t = Validation score   (f1_macro)\n",
      "\t2.02s\t = Training   runtime\n",
      "\t0.01s\t = Validation runtime\n",
      "Fitting model: NeuralNetTorch ...\n",
      "\t0.6355\t = Validation score   (f1_macro)\n",
      "\t22.09s\t = Training   runtime\n",
      "\t0.01s\t = Validation runtime\n",
      "Fitting model: LightGBMLarge ...\n",
      "\t0.7496\t = Validation score   (f1_macro)\n",
      "\t2.1s\t = Training   runtime\n",
      "\t0.01s\t = Validation runtime\n",
      "Fitting model: WeightedEnsemble_L2 ...\n",
      "\t0.7511\t = Validation score   (f1_macro)\n",
      "\t1.72s\t = Training   runtime\n",
      "\t0.0s\t = Validation runtime\n",
      "AutoGluon training complete, total runtime = 54.91s ... Best model: \"WeightedEnsemble_L2\"\n",
      "TabularPredictor saved. To load, use: predictor = TabularPredictor.load(\"AutogluonModels\\ag-20230326_074807\\\")\n"
     ]
    }
   ],
   "source": [
    "predictor = TabularPredictor(label='전화해지여부', eval_metric='f1_macro').fit(train_data=re_df)"
   ]
  },
  {
   "cell_type": "code",
   "execution_count": 97,
   "id": "0e59de5b",
   "metadata": {},
   "outputs": [
    {
     "data": {
      "text/plain": [
       "'WeightedEnsemble_L2'"
      ]
     },
     "execution_count": 97,
     "metadata": {},
     "output_type": "execute_result"
    }
   ],
   "source": [
    "predictor.get_model_best()"
   ]
  },
  {
   "cell_type": "code",
   "execution_count": 98,
   "id": "78f1feed",
   "metadata": {},
   "outputs": [
    {
     "data": {
      "text/html": [
       "<div>\n",
       "<style scoped>\n",
       "    .dataframe tbody tr th:only-of-type {\n",
       "        vertical-align: middle;\n",
       "    }\n",
       "\n",
       "    .dataframe tbody tr th {\n",
       "        vertical-align: top;\n",
       "    }\n",
       "\n",
       "    .dataframe thead th {\n",
       "        text-align: right;\n",
       "    }\n",
       "</style>\n",
       "<table border=\"1\" class=\"dataframe\">\n",
       "  <thead>\n",
       "    <tr style=\"text-align: right;\">\n",
       "      <th></th>\n",
       "      <th>model</th>\n",
       "      <th>score_test</th>\n",
       "      <th>score_val</th>\n",
       "      <th>pred_time_test</th>\n",
       "      <th>pred_time_val</th>\n",
       "      <th>fit_time</th>\n",
       "      <th>pred_time_test_marginal</th>\n",
       "      <th>pred_time_val_marginal</th>\n",
       "      <th>fit_time_marginal</th>\n",
       "      <th>stack_level</th>\n",
       "      <th>can_infer</th>\n",
       "      <th>fit_order</th>\n",
       "    </tr>\n",
       "  </thead>\n",
       "  <tbody>\n",
       "    <tr>\n",
       "      <th>0</th>\n",
       "      <td>RandomForestGini</td>\n",
       "      <td>0.974532</td>\n",
       "      <td>0.745060</td>\n",
       "      <td>0.181139</td>\n",
       "      <td>0.044982</td>\n",
       "      <td>0.853064</td>\n",
       "      <td>0.181139</td>\n",
       "      <td>0.044982</td>\n",
       "      <td>0.853064</td>\n",
       "      <td>1</td>\n",
       "      <td>True</td>\n",
       "      <td>5</td>\n",
       "    </tr>\n",
       "    <tr>\n",
       "      <th>1</th>\n",
       "      <td>RandomForestEntr</td>\n",
       "      <td>0.974382</td>\n",
       "      <td>0.743380</td>\n",
       "      <td>0.177462</td>\n",
       "      <td>0.049142</td>\n",
       "      <td>1.180412</td>\n",
       "      <td>0.177462</td>\n",
       "      <td>0.049142</td>\n",
       "      <td>1.180412</td>\n",
       "      <td>1</td>\n",
       "      <td>True</td>\n",
       "      <td>6</td>\n",
       "    </tr>\n",
       "    <tr>\n",
       "      <th>2</th>\n",
       "      <td>ExtraTreesGini</td>\n",
       "      <td>0.973779</td>\n",
       "      <td>0.737485</td>\n",
       "      <td>0.231948</td>\n",
       "      <td>0.046647</td>\n",
       "      <td>0.606415</td>\n",
       "      <td>0.231948</td>\n",
       "      <td>0.046647</td>\n",
       "      <td>0.606415</td>\n",
       "      <td>1</td>\n",
       "      <td>True</td>\n",
       "      <td>8</td>\n",
       "    </tr>\n",
       "    <tr>\n",
       "      <th>3</th>\n",
       "      <td>ExtraTreesEntr</td>\n",
       "      <td>0.972272</td>\n",
       "      <td>0.722246</td>\n",
       "      <td>0.332421</td>\n",
       "      <td>0.048542</td>\n",
       "      <td>0.745105</td>\n",
       "      <td>0.332421</td>\n",
       "      <td>0.048542</td>\n",
       "      <td>0.745105</td>\n",
       "      <td>1</td>\n",
       "      <td>True</td>\n",
       "      <td>9</td>\n",
       "    </tr>\n",
       "    <tr>\n",
       "      <th>4</th>\n",
       "      <td>WeightedEnsemble_L2</td>\n",
       "      <td>0.966996</td>\n",
       "      <td>0.751094</td>\n",
       "      <td>0.301196</td>\n",
       "      <td>0.063932</td>\n",
       "      <td>7.227631</td>\n",
       "      <td>0.007425</td>\n",
       "      <td>0.001992</td>\n",
       "      <td>1.720223</td>\n",
       "      <td>2</td>\n",
       "      <td>True</td>\n",
       "      <td>14</td>\n",
       "    </tr>\n",
       "    <tr>\n",
       "      <th>5</th>\n",
       "      <td>LightGBMLarge</td>\n",
       "      <td>0.954480</td>\n",
       "      <td>0.749555</td>\n",
       "      <td>0.055653</td>\n",
       "      <td>0.010072</td>\n",
       "      <td>2.099439</td>\n",
       "      <td>0.055653</td>\n",
       "      <td>0.010072</td>\n",
       "      <td>2.099439</td>\n",
       "      <td>1</td>\n",
       "      <td>True</td>\n",
       "      <td>13</td>\n",
       "    </tr>\n",
       "    <tr>\n",
       "      <th>6</th>\n",
       "      <td>KNeighborsDist</td>\n",
       "      <td>0.949347</td>\n",
       "      <td>0.693158</td>\n",
       "      <td>0.035506</td>\n",
       "      <td>0.005592</td>\n",
       "      <td>0.007372</td>\n",
       "      <td>0.035506</td>\n",
       "      <td>0.005592</td>\n",
       "      <td>0.007372</td>\n",
       "      <td>1</td>\n",
       "      <td>True</td>\n",
       "      <td>2</td>\n",
       "    </tr>\n",
       "    <tr>\n",
       "      <th>7</th>\n",
       "      <td>XGBoost</td>\n",
       "      <td>0.936845</td>\n",
       "      <td>0.736311</td>\n",
       "      <td>0.070395</td>\n",
       "      <td>0.012021</td>\n",
       "      <td>2.024699</td>\n",
       "      <td>0.070395</td>\n",
       "      <td>0.012021</td>\n",
       "      <td>2.024699</td>\n",
       "      <td>1</td>\n",
       "      <td>True</td>\n",
       "      <td>11</td>\n",
       "    </tr>\n",
       "    <tr>\n",
       "      <th>8</th>\n",
       "      <td>LightGBM</td>\n",
       "      <td>0.930509</td>\n",
       "      <td>0.731379</td>\n",
       "      <td>0.077583</td>\n",
       "      <td>0.009362</td>\n",
       "      <td>1.592626</td>\n",
       "      <td>0.077583</td>\n",
       "      <td>0.009362</td>\n",
       "      <td>1.592626</td>\n",
       "      <td>1</td>\n",
       "      <td>True</td>\n",
       "      <td>4</td>\n",
       "    </tr>\n",
       "    <tr>\n",
       "      <th>9</th>\n",
       "      <td>CatBoost</td>\n",
       "      <td>0.925823</td>\n",
       "      <td>0.729582</td>\n",
       "      <td>0.029831</td>\n",
       "      <td>0.004958</td>\n",
       "      <td>8.211673</td>\n",
       "      <td>0.029831</td>\n",
       "      <td>0.004958</td>\n",
       "      <td>8.211673</td>\n",
       "      <td>1</td>\n",
       "      <td>True</td>\n",
       "      <td>7</td>\n",
       "    </tr>\n",
       "    <tr>\n",
       "      <th>10</th>\n",
       "      <td>KNeighborsUnif</td>\n",
       "      <td>0.745228</td>\n",
       "      <td>0.628475</td>\n",
       "      <td>0.040626</td>\n",
       "      <td>0.009583</td>\n",
       "      <td>2.396102</td>\n",
       "      <td>0.040626</td>\n",
       "      <td>0.009583</td>\n",
       "      <td>2.396102</td>\n",
       "      <td>1</td>\n",
       "      <td>True</td>\n",
       "      <td>1</td>\n",
       "    </tr>\n",
       "    <tr>\n",
       "      <th>11</th>\n",
       "      <td>LightGBMXT</td>\n",
       "      <td>0.740054</td>\n",
       "      <td>0.690083</td>\n",
       "      <td>0.056979</td>\n",
       "      <td>0.006886</td>\n",
       "      <td>2.554905</td>\n",
       "      <td>0.056979</td>\n",
       "      <td>0.006886</td>\n",
       "      <td>2.554905</td>\n",
       "      <td>1</td>\n",
       "      <td>True</td>\n",
       "      <td>3</td>\n",
       "    </tr>\n",
       "    <tr>\n",
       "      <th>12</th>\n",
       "      <td>NeuralNetTorch</td>\n",
       "      <td>0.676008</td>\n",
       "      <td>0.635520</td>\n",
       "      <td>0.045123</td>\n",
       "      <td>0.013287</td>\n",
       "      <td>22.092883</td>\n",
       "      <td>0.045123</td>\n",
       "      <td>0.013287</td>\n",
       "      <td>22.092883</td>\n",
       "      <td>1</td>\n",
       "      <td>True</td>\n",
       "      <td>12</td>\n",
       "    </tr>\n",
       "    <tr>\n",
       "      <th>13</th>\n",
       "      <td>NeuralNetFastAI</td>\n",
       "      <td>0.661239</td>\n",
       "      <td>0.635274</td>\n",
       "      <td>0.130697</td>\n",
       "      <td>0.018073</td>\n",
       "      <td>7.682988</td>\n",
       "      <td>0.130697</td>\n",
       "      <td>0.018073</td>\n",
       "      <td>7.682988</td>\n",
       "      <td>1</td>\n",
       "      <td>True</td>\n",
       "      <td>10</td>\n",
       "    </tr>\n",
       "  </tbody>\n",
       "</table>\n",
       "</div>"
      ],
      "text/plain": [
       "                  model  score_test  score_val  pred_time_test  pred_time_val  \\\n",
       "0      RandomForestGini    0.974532   0.745060        0.181139       0.044982   \n",
       "1      RandomForestEntr    0.974382   0.743380        0.177462       0.049142   \n",
       "2        ExtraTreesGini    0.973779   0.737485        0.231948       0.046647   \n",
       "3        ExtraTreesEntr    0.972272   0.722246        0.332421       0.048542   \n",
       "4   WeightedEnsemble_L2    0.966996   0.751094        0.301196       0.063932   \n",
       "5         LightGBMLarge    0.954480   0.749555        0.055653       0.010072   \n",
       "6        KNeighborsDist    0.949347   0.693158        0.035506       0.005592   \n",
       "7               XGBoost    0.936845   0.736311        0.070395       0.012021   \n",
       "8              LightGBM    0.930509   0.731379        0.077583       0.009362   \n",
       "9              CatBoost    0.925823   0.729582        0.029831       0.004958   \n",
       "10       KNeighborsUnif    0.745228   0.628475        0.040626       0.009583   \n",
       "11           LightGBMXT    0.740054   0.690083        0.056979       0.006886   \n",
       "12       NeuralNetTorch    0.676008   0.635520        0.045123       0.013287   \n",
       "13      NeuralNetFastAI    0.661239   0.635274        0.130697       0.018073   \n",
       "\n",
       "     fit_time  pred_time_test_marginal  pred_time_val_marginal  \\\n",
       "0    0.853064                 0.181139                0.044982   \n",
       "1    1.180412                 0.177462                0.049142   \n",
       "2    0.606415                 0.231948                0.046647   \n",
       "3    0.745105                 0.332421                0.048542   \n",
       "4    7.227631                 0.007425                0.001992   \n",
       "5    2.099439                 0.055653                0.010072   \n",
       "6    0.007372                 0.035506                0.005592   \n",
       "7    2.024699                 0.070395                0.012021   \n",
       "8    1.592626                 0.077583                0.009362   \n",
       "9    8.211673                 0.029831                0.004958   \n",
       "10   2.396102                 0.040626                0.009583   \n",
       "11   2.554905                 0.056979                0.006886   \n",
       "12  22.092883                 0.045123                0.013287   \n",
       "13   7.682988                 0.130697                0.018073   \n",
       "\n",
       "    fit_time_marginal  stack_level  can_infer  fit_order  \n",
       "0            0.853064            1       True          5  \n",
       "1            1.180412            1       True          6  \n",
       "2            0.606415            1       True          8  \n",
       "3            0.745105            1       True          9  \n",
       "4            1.720223            2       True         14  \n",
       "5            2.099439            1       True         13  \n",
       "6            0.007372            1       True          2  \n",
       "7            2.024699            1       True         11  \n",
       "8            1.592626            1       True          4  \n",
       "9            8.211673            1       True          7  \n",
       "10           2.396102            1       True          1  \n",
       "11           2.554905            1       True          3  \n",
       "12          22.092883            1       True         12  \n",
       "13           7.682988            1       True         10  "
      ]
     },
     "execution_count": 98,
     "metadata": {},
     "output_type": "execute_result"
    }
   ],
   "source": [
    "# 각각의 모델의 훈련 성능을 평가할 수 있음\n",
    "ld_board = predictor.leaderboard(re_df, silent=True)\n",
    "\n",
    "ld_board"
   ]
  },
  {
   "cell_type": "code",
   "execution_count": 99,
   "id": "1fad27be",
   "metadata": {},
   "outputs": [],
   "source": [
    "test_auto = TabularDataset(test)"
   ]
  },
  {
   "cell_type": "code",
   "execution_count": 100,
   "id": "0ec92759",
   "metadata": {},
   "outputs": [],
   "source": [
    "pred_WeightedEnsemble = predictor.predict(test_auto)"
   ]
  },
  {
   "cell_type": "code",
   "execution_count": 101,
   "id": "e4012d16",
   "metadata": {},
   "outputs": [
    {
     "data": {
      "text/html": [
       "<div>\n",
       "<style scoped>\n",
       "    .dataframe tbody tr th:only-of-type {\n",
       "        vertical-align: middle;\n",
       "    }\n",
       "\n",
       "    .dataframe tbody tr th {\n",
       "        vertical-align: top;\n",
       "    }\n",
       "\n",
       "    .dataframe thead th {\n",
       "        text-align: right;\n",
       "    }\n",
       "</style>\n",
       "<table border=\"1\" class=\"dataframe\">\n",
       "  <thead>\n",
       "    <tr style=\"text-align: right;\">\n",
       "      <th></th>\n",
       "      <th>ID</th>\n",
       "      <th>전화해지여부</th>\n",
       "    </tr>\n",
       "  </thead>\n",
       "  <tbody>\n",
       "    <tr>\n",
       "      <th>0</th>\n",
       "      <td>TEST_00000</td>\n",
       "      <td>0</td>\n",
       "    </tr>\n",
       "    <tr>\n",
       "      <th>1</th>\n",
       "      <td>TEST_00001</td>\n",
       "      <td>1</td>\n",
       "    </tr>\n",
       "  </tbody>\n",
       "</table>\n",
       "</div>"
      ],
      "text/plain": [
       "           ID  전화해지여부\n",
       "0  TEST_00000       0\n",
       "1  TEST_00001       1"
      ]
     },
     "execution_count": 101,
     "metadata": {},
     "output_type": "execute_result"
    }
   ],
   "source": [
    "# submit\n",
    "sample_submission = pd.read_csv('./sample_submission.csv')\n",
    "sample_submission[\"전화해지여부\"] = pred_WeightedEnsemble\n",
    "sample_submission.head(2)"
   ]
  },
  {
   "cell_type": "code",
   "execution_count": 102,
   "id": "97e12498",
   "metadata": {},
   "outputs": [],
   "source": [
    "# 캐글에 제출\n",
    "file_name = f'./under_autogluon(WeightEnsemble)_0.75.csv'\n",
    "sample_submission.to_csv(file_name,index = False)"
   ]
  },
  {
   "attachments": {},
   "cell_type": "markdown",
   "id": "eebb88ab",
   "metadata": {},
   "source": [
    "5. SVC"
   ]
  },
  {
   "cell_type": "code",
   "execution_count": 103,
   "id": "b788543c",
   "metadata": {},
   "outputs": [],
   "source": [
    "from sklearn.svm import SVC\n",
    "\n",
    "svm_clf = SVC(gamma=\"auto\")\n",
    "svm_scores = cross_val_score(svm_clf, X_resampled,y_resampled, scoring='f1', cv=10)\n",
    "svm_scores = svm_scores.mean()"
   ]
  },
  {
   "cell_type": "code",
   "execution_count": 107,
   "id": "818c26d9",
   "metadata": {},
   "outputs": [
    {
     "data": {
      "text/plain": [
       "0.6503137073320745"
      ]
     },
     "execution_count": 107,
     "metadata": {},
     "output_type": "execute_result"
    }
   ],
   "source": [
    "svm_scores"
   ]
  },
  {
   "cell_type": "code",
   "execution_count": 104,
   "id": "9f3850db",
   "metadata": {},
   "outputs": [],
   "source": [
    "svm_clf.fit(X_resampled,y_resampled)\n",
    "pred_svm=svm_clf.predict(test)"
   ]
  },
  {
   "cell_type": "code",
   "execution_count": 105,
   "id": "e41b84a4",
   "metadata": {},
   "outputs": [
    {
     "data": {
      "text/html": [
       "<div>\n",
       "<style scoped>\n",
       "    .dataframe tbody tr th:only-of-type {\n",
       "        vertical-align: middle;\n",
       "    }\n",
       "\n",
       "    .dataframe tbody tr th {\n",
       "        vertical-align: top;\n",
       "    }\n",
       "\n",
       "    .dataframe thead th {\n",
       "        text-align: right;\n",
       "    }\n",
       "</style>\n",
       "<table border=\"1\" class=\"dataframe\">\n",
       "  <thead>\n",
       "    <tr style=\"text-align: right;\">\n",
       "      <th></th>\n",
       "      <th>ID</th>\n",
       "      <th>전화해지여부</th>\n",
       "    </tr>\n",
       "  </thead>\n",
       "  <tbody>\n",
       "    <tr>\n",
       "      <th>0</th>\n",
       "      <td>TEST_00000</td>\n",
       "      <td>0</td>\n",
       "    </tr>\n",
       "    <tr>\n",
       "      <th>1</th>\n",
       "      <td>TEST_00001</td>\n",
       "      <td>1</td>\n",
       "    </tr>\n",
       "  </tbody>\n",
       "</table>\n",
       "</div>"
      ],
      "text/plain": [
       "           ID  전화해지여부\n",
       "0  TEST_00000       0\n",
       "1  TEST_00001       1"
      ]
     },
     "execution_count": 105,
     "metadata": {},
     "output_type": "execute_result"
    }
   ],
   "source": [
    "# submit\n",
    "sample_submission = pd.read_csv('./sample_submission.csv')\n",
    "sample_submission[\"전화해지여부\"] = pred_svm\n",
    "sample_submission.head(2)"
   ]
  },
  {
   "cell_type": "code",
   "execution_count": 106,
   "id": "707f3750",
   "metadata": {},
   "outputs": [],
   "source": [
    "# 캐글에 제출\n",
    "file_name = f'./under_svm_{svm_scores:.5f}.csv'\n",
    "sample_submission.to_csv(file_name,index = False)"
   ]
  },
  {
   "attachments": {},
   "cell_type": "markdown",
   "id": "d3465bc8",
   "metadata": {},
   "source": [
    "6. XGBoost"
   ]
  },
  {
   "cell_type": "code",
   "execution_count": null,
   "id": "73c4c36a",
   "metadata": {},
   "outputs": [],
   "source": [
    "#필요한 라이브러리 임포트\n",
    "from xgboost import XGBClassifier\n",
    "\n",
    "xgb= XGBClassifier()\n",
    "\n",
    "xgb_param_grid={\n",
    "    'n_estimators' : [100,200,300],\n",
    "    'learning_rate' : [0.01,0.05,0.1,0.15],\n",
    "    'max_depth' : [6,8,10,12],\n",
    "    'gamma' : [0,1,2,3]\n",
    "}\n",
    "\n",
    "xgb_grid=GridSearchCV(xgb, param_grid = xgb_param_grid, scoring=\"f1_macro\", n_jobs=-1, cv = 10)\n",
    "xgb_grid.fit(X_resampled,y_resampled)"
   ]
  },
  {
   "cell_type": "code",
   "execution_count": 77,
   "id": "20a80ba7",
   "metadata": {},
   "outputs": [
    {
     "name": "stdout",
     "output_type": "stream",
     "text": [
      "best f1_macro :  0.7340\n",
      "best param :  {'colsample_bytree': 0.9, 'gamma': 0, 'learning_rate': 0.15, 'max_depth': 15, 'n_estimators': 400}\n"
     ]
    },
    {
     "data": {
      "text/html": [
       "<div>\n",
       "<style scoped>\n",
       "    .dataframe tbody tr th:only-of-type {\n",
       "        vertical-align: middle;\n",
       "    }\n",
       "\n",
       "    .dataframe tbody tr th {\n",
       "        vertical-align: top;\n",
       "    }\n",
       "\n",
       "    .dataframe thead th {\n",
       "        text-align: right;\n",
       "    }\n",
       "</style>\n",
       "<table border=\"1\" class=\"dataframe\">\n",
       "  <thead>\n",
       "    <tr style=\"text-align: right;\">\n",
       "      <th></th>\n",
       "      <th>params</th>\n",
       "      <th>mean_test_score</th>\n",
       "      <th>rank_test_score</th>\n",
       "    </tr>\n",
       "  </thead>\n",
       "  <tbody>\n",
       "    <tr>\n",
       "      <th>498</th>\n",
       "      <td>{'colsample_bytree': 0.9, 'gamma': 0, 'learning_rate': 0.15, 'max_depth': 15, 'n_estimators': 400}</td>\n",
       "      <td>0.733985</td>\n",
       "      <td>1</td>\n",
       "    </tr>\n",
       "    <tr>\n",
       "      <th>499</th>\n",
       "      <td>{'colsample_bytree': 0.9, 'gamma': 0, 'learning_rate': 0.15, 'max_depth': 15, 'n_estimators': 500}</td>\n",
       "      <td>0.732149</td>\n",
       "      <td>2</td>\n",
       "    </tr>\n",
       "    <tr>\n",
       "      <th>449</th>\n",
       "      <td>{'colsample_bytree': 0.9, 'gamma': 0, 'learning_rate': 0.05, 'max_depth': 15, 'n_estimators': 500}</td>\n",
       "      <td>0.731870</td>\n",
       "      <td>3</td>\n",
       "    </tr>\n",
       "    <tr>\n",
       "      <th>496</th>\n",
       "      <td>{'colsample_bytree': 0.9, 'gamma': 0, 'learning_rate': 0.15, 'max_depth': 15, 'n_estimators': 200}</td>\n",
       "      <td>0.731868</td>\n",
       "      <td>4</td>\n",
       "    </tr>\n",
       "    <tr>\n",
       "      <th>497</th>\n",
       "      <td>{'colsample_bytree': 0.9, 'gamma': 0, 'learning_rate': 0.15, 'max_depth': 15, 'n_estimators': 300}</td>\n",
       "      <td>0.731746</td>\n",
       "      <td>5</td>\n",
       "    </tr>\n",
       "    <tr>\n",
       "      <th>448</th>\n",
       "      <td>{'colsample_bytree': 0.9, 'gamma': 0, 'learning_rate': 0.05, 'max_depth': 15, 'n_estimators': 400}</td>\n",
       "      <td>0.731262</td>\n",
       "      <td>6</td>\n",
       "    </tr>\n",
       "    <tr>\n",
       "      <th>71</th>\n",
       "      <td>{'colsample_bytree': 0.8, 'gamma': 0, 'learning_rate': 0.1, 'max_depth': 15, 'n_estimators': 200}</td>\n",
       "      <td>0.730676</td>\n",
       "      <td>7</td>\n",
       "    </tr>\n",
       "    <tr>\n",
       "      <th>471</th>\n",
       "      <td>{'colsample_bytree': 0.9, 'gamma': 0, 'learning_rate': 0.1, 'max_depth': 15, 'n_estimators': 200}</td>\n",
       "      <td>0.730598</td>\n",
       "      <td>8</td>\n",
       "    </tr>\n",
       "    <tr>\n",
       "      <th>495</th>\n",
       "      <td>{'colsample_bytree': 0.9, 'gamma': 0, 'learning_rate': 0.15, 'max_depth': 15, 'n_estimators': 100}</td>\n",
       "      <td>0.730470</td>\n",
       "      <td>9</td>\n",
       "    </tr>\n",
       "    <tr>\n",
       "      <th>472</th>\n",
       "      <td>{'colsample_bytree': 0.9, 'gamma': 0, 'learning_rate': 0.1, 'max_depth': 15, 'n_estimators': 300}</td>\n",
       "      <td>0.729539</td>\n",
       "      <td>10</td>\n",
       "    </tr>\n",
       "  </tbody>\n",
       "</table>\n",
       "</div>"
      ],
      "text/plain": [
       "                                                                                                 params  \\\n",
       "498  {'colsample_bytree': 0.9, 'gamma': 0, 'learning_rate': 0.15, 'max_depth': 15, 'n_estimators': 400}   \n",
       "499  {'colsample_bytree': 0.9, 'gamma': 0, 'learning_rate': 0.15, 'max_depth': 15, 'n_estimators': 500}   \n",
       "449  {'colsample_bytree': 0.9, 'gamma': 0, 'learning_rate': 0.05, 'max_depth': 15, 'n_estimators': 500}   \n",
       "496  {'colsample_bytree': 0.9, 'gamma': 0, 'learning_rate': 0.15, 'max_depth': 15, 'n_estimators': 200}   \n",
       "497  {'colsample_bytree': 0.9, 'gamma': 0, 'learning_rate': 0.15, 'max_depth': 15, 'n_estimators': 300}   \n",
       "448  {'colsample_bytree': 0.9, 'gamma': 0, 'learning_rate': 0.05, 'max_depth': 15, 'n_estimators': 400}   \n",
       "71    {'colsample_bytree': 0.8, 'gamma': 0, 'learning_rate': 0.1, 'max_depth': 15, 'n_estimators': 200}   \n",
       "471   {'colsample_bytree': 0.9, 'gamma': 0, 'learning_rate': 0.1, 'max_depth': 15, 'n_estimators': 200}   \n",
       "495  {'colsample_bytree': 0.9, 'gamma': 0, 'learning_rate': 0.15, 'max_depth': 15, 'n_estimators': 100}   \n",
       "472   {'colsample_bytree': 0.9, 'gamma': 0, 'learning_rate': 0.1, 'max_depth': 15, 'n_estimators': 300}   \n",
       "\n",
       "     mean_test_score  rank_test_score  \n",
       "498         0.733985                1  \n",
       "499         0.732149                2  \n",
       "449         0.731870                3  \n",
       "496         0.731868                4  \n",
       "497         0.731746                5  \n",
       "448         0.731262                6  \n",
       "71          0.730676                7  \n",
       "471         0.730598                8  \n",
       "495         0.730470                9  \n",
       "472         0.729539               10  "
      ]
     },
     "execution_count": 77,
     "metadata": {},
     "output_type": "execute_result"
    }
   ],
   "source": [
    "#best f1_macro 수치와 best parameter확인\n",
    "print(\"best f1_macro : {0: .4f}\".format(xgb_grid.best_score_))\n",
    "print(\"best param : \",xgb_grid.best_params_)\n",
    "\n",
    "#dataframe으로 랭킹순보기\n",
    "result_df = pd.DataFrame(xgb_grid.cv_results_)\n",
    "result_df.sort_values(by=['rank_test_score'],inplace=True)\n",
    "\n",
    "#plot\n",
    "result_df[['params','mean_test_score','rank_test_score']].head(10)"
   ]
  },
  {
   "cell_type": "code",
   "execution_count": null,
   "id": "f04fc6aa",
   "metadata": {},
   "outputs": [],
   "source": [
    "xgb_grid.best_score_"
   ]
  },
  {
   "cell_type": "code",
   "execution_count": 78,
   "id": "235249d1",
   "metadata": {},
   "outputs": [],
   "source": [
    "pred_xgb=xgb_grid.predict(test)"
   ]
  },
  {
   "cell_type": "code",
   "execution_count": 79,
   "id": "1cfdf43a",
   "metadata": {},
   "outputs": [
    {
     "data": {
      "text/html": [
       "<div>\n",
       "<style scoped>\n",
       "    .dataframe tbody tr th:only-of-type {\n",
       "        vertical-align: middle;\n",
       "    }\n",
       "\n",
       "    .dataframe tbody tr th {\n",
       "        vertical-align: top;\n",
       "    }\n",
       "\n",
       "    .dataframe thead th {\n",
       "        text-align: right;\n",
       "    }\n",
       "</style>\n",
       "<table border=\"1\" class=\"dataframe\">\n",
       "  <thead>\n",
       "    <tr style=\"text-align: right;\">\n",
       "      <th></th>\n",
       "      <th>ID</th>\n",
       "      <th>전화해지여부</th>\n",
       "    </tr>\n",
       "  </thead>\n",
       "  <tbody>\n",
       "    <tr>\n",
       "      <th>0</th>\n",
       "      <td>TEST_00000</td>\n",
       "      <td>0</td>\n",
       "    </tr>\n",
       "    <tr>\n",
       "      <th>1</th>\n",
       "      <td>TEST_00001</td>\n",
       "      <td>0</td>\n",
       "    </tr>\n",
       "  </tbody>\n",
       "</table>\n",
       "</div>"
      ],
      "text/plain": [
       "           ID  전화해지여부\n",
       "0  TEST_00000       0\n",
       "1  TEST_00001       0"
      ]
     },
     "execution_count": 79,
     "metadata": {},
     "output_type": "execute_result"
    }
   ],
   "source": [
    "# submit\n",
    "sample_submission = pd.read_csv('./sample_submission.csv')\n",
    "sample_submission[\"전화해지여부\"] = pred_xgb\n",
    "sample_submission.head(2)"
   ]
  },
  {
   "cell_type": "code",
   "execution_count": 80,
   "id": "1724728f",
   "metadata": {},
   "outputs": [],
   "source": [
    "# 캐글에 제출\n",
    "file_name = f'./under_xgb_.csv'\n",
    "sample_submission.to_csv(file_name,index = False)"
   ]
  },
  {
   "cell_type": "code",
   "execution_count": null,
   "id": "1ed16b73",
   "metadata": {},
   "outputs": [],
   "source": []
  }
 ],
 "metadata": {
  "kernelspec": {
   "display_name": "base",
   "language": "python",
   "name": "python3"
  },
  "language_info": {
   "codemirror_mode": {
    "name": "ipython",
    "version": 3
   },
   "file_extension": ".py",
   "mimetype": "text/x-python",
   "name": "python",
   "nbconvert_exporter": "python",
   "pygments_lexer": "ipython3",
   "version": "3.10.9"
  },
  "toc": {
   "base_numbering": 1,
   "nav_menu": {},
   "number_sections": true,
   "sideBar": true,
   "skip_h1_title": false,
   "title_cell": "Table of Contents",
   "title_sidebar": "Contents",
   "toc_cell": false,
   "toc_position": {},
   "toc_section_display": true,
   "toc_window_display": true
  }
 },
 "nbformat": 4,
 "nbformat_minor": 5
}
